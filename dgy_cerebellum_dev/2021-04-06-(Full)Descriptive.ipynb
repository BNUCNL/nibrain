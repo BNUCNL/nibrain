{
 "metadata": {
  "language_info": {
   "codemirror_mode": {
    "name": "ipython",
    "version": 3
   },
   "file_extension": ".py",
   "mimetype": "text/x-python",
   "name": "python",
   "nbconvert_exporter": "python",
   "pygments_lexer": "ipython3",
   "version": "3.6.7"
  },
  "orig_nbformat": 2,
  "kernelspec": {
   "name": "python367jvsc74a57bd0016a199ab98338c6eafe0c14e81908c798c1664fea4a0449c1b03ceb77d1b34e",
   "display_name": "Python 3.6.7 64-bit ('virtual': conda)"
  },
  "metadata": {
   "interpreter": {
    "hash": "016a199ab98338c6eafe0c14e81908c798c1664fea4a0449c1b03ceb77d1b34e"
   }
  }
 },
 "nbformat": 4,
 "nbformat_minor": 2,
 "cells": [
  {
   "cell_type": "code",
   "execution_count": null,
   "metadata": {},
   "outputs": [],
   "source": [
    "import lib\n",
    "import matplotlib\n",
    "import numpy as np\n",
    "import pandas as pd\n",
    "from matplotlib import pyplot as plt\n",
    "\n",
    "DATA_DIR = os.path.join(lib.basic.DATA_DIR(), 'myelin_grad')"
   ]
  },
  {
   "source": [
    "# Subject ages"
   ],
   "cell_type": "markdown",
   "metadata": {}
  },
  {
   "cell_type": "code",
   "execution_count": null,
   "metadata": {},
   "outputs": [],
   "source": [
    "plt.style.use('ggplot')\n",
    "fig, axes = plt.subplots(1, 2, figsize=(10, 4))\n",
    "axes[0].hist(lib.basic.SUB_INFO_DF['Age in months'], color='#923a60')\n",
    "axes[0].set_title('Age in months')\n",
    "axes[1].hist(lib.basic.SUB_INFO_DF['Age in years'], bins=17, color='#2c80c5')\n",
    "axes[1].set_title('Age in years')\n",
    "fig.tight_layout()\n",
    "plt.show()"
   ]
  },
  {
   "source": [
    "# Inter-group correlations"
   ],
   "cell_type": "markdown",
   "metadata": {}
  },
  {
   "cell_type": "code",
   "execution_count": null,
   "metadata": {},
   "outputs": [],
   "source": [
    "# Loading myelination maps\n",
    "regions = ['cb', 'cc', 'sc']\n",
    "maps = {region: pd.read_pickle(os.path.join(DATA_DIR, f'{region}_maps.pickle')) for region in regions}\n",
    "mean_maps = {}"
   ]
  },
  {
   "cell_type": "code",
   "execution_count": null,
   "metadata": {},
   "outputs": [],
   "source": [
    "matplotlib.rcParams.update(matplotlib.rcParamsDefault)\n",
    "mean_maps['cb'] = lib.myelin.get_mean_maps_of_ages(maps['cb'])"
   ]
  },
  {
   "cell_type": "code",
   "execution_count": null,
   "metadata": {},
   "outputs": [],
   "source": [
    "lib.util.plot_corr_mat(mean_maps['cb'], 0.7)"
   ]
  },
  {
   "cell_type": "code",
   "execution_count": null,
   "metadata": {},
   "outputs": [],
   "source": [
    "matplotlib.rcParams.update(matplotlib.rcParamsDefault)\n",
    "mean_maps['cc'] = lib.myelin.get_mean_maps_of_ages(maps['cc'])"
   ]
  },
  {
   "cell_type": "code",
   "execution_count": null,
   "metadata": {},
   "outputs": [],
   "source": [
    "lib.util.plot_corr_mat(mean_maps['cc'], 0.92)"
   ]
  },
  {
   "cell_type": "code",
   "execution_count": null,
   "metadata": {},
   "outputs": [],
   "source": [
    "matplotlib.rcParams.update(matplotlib.rcParamsDefault)\n",
    "mean_maps['sc'] = lib.myelin.get_mean_maps_of_ages(maps['sc'])"
   ]
  },
  {
   "cell_type": "code",
   "execution_count": null,
   "metadata": {},
   "outputs": [],
   "source": [
    "lib.util.plot_corr_mat(mean_maps['sc'], 0.75)"
   ]
  },
  {
   "source": [
    "# Distribution of an example myelin map"
   ],
   "cell_type": "markdown",
   "metadata": {}
  },
  {
   "cell_type": "code",
   "execution_count": null,
   "metadata": {},
   "outputs": [],
   "source": [
    "plt.style.use('ggplot')\n",
    "plt.figure()\n",
    "plt.hist(mean_maps['cb'][7], bins=14)\n",
    "plt.show()"
   ]
  },
  {
   "cell_type": "code",
   "execution_count": null,
   "metadata": {},
   "outputs": [],
   "source": [
    "# group6_maps = np.row_stack(maps['cb'][maps['cb']['age'] == 6]['data'])\n",
    "# np.where(group6_maps > 20)\n",
    "# DIY_COLOURS = ['#923a60', '#2c80c5']"
   ]
  }
 ]
}