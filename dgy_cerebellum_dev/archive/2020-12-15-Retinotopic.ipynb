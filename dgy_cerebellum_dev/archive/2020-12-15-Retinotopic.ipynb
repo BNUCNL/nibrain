{
 "metadata": {
  "language_info": {
   "codemirror_mode": {
    "name": "ipython",
    "version": 3
   },
   "file_extension": ".py",
   "mimetype": "text/x-python",
   "name": "python",
   "nbconvert_exporter": "python",
   "pygments_lexer": "ipython3",
   "version": "3.6.7-final"
  },
  "orig_nbformat": 2,
  "kernelspec": {
   "name": "python3",
   "display_name": "Python 3",
   "language": "python"
  }
 },
 "nbformat": 4,
 "nbformat_minor": 2,
 "cells": [
  {
   "cell_type": "code",
   "execution_count": 1,
   "metadata": {},
   "outputs": [],
   "source": [
    "import HCP\n",
    "import neuropythy as ny\n",
    "import os, h5py, scipy.io as scio, numpy as np\n",
    "from matplotlib import pyplot as plt\n",
    "\n",
    "WORKING_PATH = os.getcwd()\n",
    "CACHE_PATH = os.path.join(WORKING_PATH, 'Cache')\n",
    "DATA_PATH = os.path.join(WORKING_PATH, 'Data')"
   ]
  },
  {
   "cell_type": "code",
   "execution_count": 2,
   "metadata": {},
   "outputs": [],
   "source": [
    "ny.config['data_cache_root'] = CACHE_PATH\n",
    "ny.hcp.add_subject_path(HCP.PATH.ADULTS)\n",
    "sub = ny.hcp_subject(100610)"
   ]
  },
  {
   "cell_type": "code",
   "execution_count": 5,
   "metadata": {},
   "outputs": [],
   "source": [
    "%timeit\n",
    "retinotopicMap = ny.vision.predict_retinotopy(sub)"
   ]
  },
  {
   "cell_type": "code",
   "execution_count": 31,
   "metadata": {},
   "outputs": [],
   "source": [
    "np.save(os.path.join(DATA_PATH, f'{sub.name}.retino.npy'), arr = [\n",
    "    dict(retinotopicMap[0]), dict(retinotopicMap[1])\n",
    "])"
   ]
  },
  {
   "cell_type": "code",
   "execution_count": 4,
   "metadata": {},
   "outputs": [],
   "source": [
    "lh, rh = np.load('Data/100610.retino.npy', allow_pickle = True)"
   ]
  },
  {
   "cell_type": "code",
   "execution_count": 17,
   "metadata": {},
   "outputs": [],
   "source": [
    "sub = ny.freesurfer_subject('bert')\n",
    "output = ny.vision.predict_retinotopy(sub)"
   ]
  },
  {
   "cell_type": "code",
   "execution_count": null,
   "metadata": {},
   "outputs": [],
   "source": []
  }
 ]
}