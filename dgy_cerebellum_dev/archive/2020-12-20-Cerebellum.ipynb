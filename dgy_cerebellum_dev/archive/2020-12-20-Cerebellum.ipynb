{
 "metadata": {
  "language_info": {
   "codemirror_mode": {
    "name": "ipython",
    "version": 3
   },
   "file_extension": ".py",
   "mimetype": "text/x-python",
   "name": "python",
   "nbconvert_exporter": "python",
   "pygments_lexer": "ipython3",
   "version": "3.6.7-final"
  },
  "orig_nbformat": 2,
  "kernelspec": {
   "name": "python3",
   "display_name": "Python 3",
   "language": "python"
  }
 },
 "nbformat": 4,
 "nbformat_minor": 2,
 "cells": [
  {
   "cell_type": "code",
   "execution_count": 1,
   "metadata": {},
   "outputs": [],
   "source": [
    "import HCP\n",
    "import numpy as np\n",
    "import nibabel\n",
    "import os\n",
    "from matplotlib import pyplot as plt\n",
    "\n",
    "WORKING_DIR = './Data/'"
   ]
  },
  {
   "cell_type": "code",
   "execution_count": 2,
   "metadata": {},
   "outputs": [],
   "source": [
    "sub = HCP.pickSubjectID()\n",
    "sub_dir = HCP.getMNIDir(sub)"
   ]
  },
  {
   "cell_type": "code",
   "execution_count": 3,
   "metadata": {},
   "outputs": [],
   "source": [
    "t1 = nibabel.load(os.path.join(sub_dir, 'T1w_restore.2.nii.gz'))\n",
    "t2 = nibabel.load(os.path.join(sub_dir, 'T2w_restore.2.nii.gz'))\n",
    "t1_arr = t1.get_fdata()\n",
    "t2_arr = t2.get_fdata()"
   ]
  },
  {
   "cell_type": "code",
   "execution_count": 5,
   "metadata": {},
   "outputs": [],
   "source": [
    "ROIs = nibabel.load(os.path.join(sub_dir, 'ROIs', 'Atlas_ROIs.2.nii.gz'))\n",
    "ROIs_arr = ROIs.get_fdata()\n",
    "# LCEREBELLUM = int(ROIs_arr[55, 27, 26])\n",
    "# RCEREBELLUM = int(ROIs_arr[35, 27, 26])\n",
    "LCEREBELLUM = 8\n",
    "RCEREBELLUM = 47"
   ]
  },
  {
   "cell_type": "code",
   "execution_count": 6,
   "metadata": {},
   "outputs": [],
   "source": [
    "myelinMap = t1_arr / t2_arr\n",
    "myelinMap[np.where((ROIs_arr - LCEREBELLUM) * (ROIs_arr - RCEREBELLUM) != 0)] = 0"
   ]
  },
  {
   "cell_type": "code",
   "execution_count": 7,
   "metadata": {},
   "outputs": [],
   "source": [
    "nibabel.save(\n",
    "    nibabel.Nifti1Image(myelinMap, t1.affine),\n",
    "    os.path.join(WORKING_DIR, 'myelinmap-test.2.nii.gz')\n",
    ")"
   ]
  },
  {
   "cell_type": "code",
   "execution_count": null,
   "metadata": {},
   "outputs": [],
   "source": []
  }
 ]
}