{
 "cells": [
  {
   "cell_type": "code",
   "execution_count": 1,
   "metadata": {},
   "outputs": [],
   "source": [
    "import numpy as np\n",
    "import pandas as pd\n",
    "import pickle as pkl\n",
    "from os.path import join as pjoin\n",
    "from scipy.io import savemat, loadmat\n",
    "from cxy_hcp_ffa.lib.predefine import net2label_cole\n",
    "\n",
    "proj_dir = '/nfs/t3/workingshop/chenxiayu/study/FFA_pattern'\n",
    "anal_dir = pjoin(proj_dir, 'analysis/s2/1080_fROI/refined_with_Kevin')\n",
    "work_dir = '/nfs/s2/userhome/chenxiayu/workingdir/test/ffa_fig'"
   ]
  },
  {
   "cell_type": "markdown",
   "metadata": {},
   "source": [
    "# save out myelin and thickness"
   ]
  },
  {
   "cell_type": "code",
   "execution_count": 5,
   "metadata": {},
   "outputs": [],
   "source": [
    "meas_name = 'myelin'  # myelin, thickness\n",
    "gids = [0, 1, 2]\n",
    "hemis = ['lh', 'rh']\n",
    "rois = ['pFus-face', 'mFus-face']\n",
    "src_file = pjoin(anal_dir, 'structure/rois_v3_{hemi}_{meas}.pkl')\n",
    "gid_file = pjoin(anal_dir, 'grouping/group_id_{hemi}.npy')\n",
    "out_file = pjoin(work_dir, f'{meas_name}.mat')\n",
    "\n",
    "hemi2data = {}\n",
    "hemi2gid_vec = {}\n",
    "for hemi in hemis:\n",
    "    hemi2data[hemi] = pkl.load(open(src_file.format(hemi=hemi, meas=meas_name), 'rb'))\n",
    "    hemi2gid_vec[hemi] = np.load(gid_file.format(hemi=hemi))\n",
    "\n",
    "out_data = {}\n",
    "for gid in gids:\n",
    "    for roi in rois:\n",
    "        for hemi in hemis:\n",
    "            k = f\"{hemi}_{roi.split('-')[0]}_{gid}\"\n",
    "            data = hemi2data[hemi]\n",
    "            gid_vec = hemi2gid_vec[hemi]\n",
    "            v = np.ones_like(gid_vec, np.float64) * np.nan\n",
    "            gid_idx_vec = gid_vec == gid\n",
    "            roi_idx = data['roi'].index(roi)\n",
    "            v[gid_idx_vec] = data['meas'][roi_idx][gid_idx_vec]\n",
    "            out_data[k] = v\n",
    "\n",
    "savemat(out_file, out_data)"
   ]
  },
  {
   "cell_type": "markdown",
   "metadata": {},
   "source": [
    "# save out RSFC"
   ]
  },
  {
   "cell_type": "code",
   "execution_count": 4,
   "metadata": {},
   "outputs": [],
   "source": [
    "gids = [0, 1, 2]\n",
    "hemis = ('lh', 'rh')\n",
    "seed_names = ['pFus-face', 'mFus-face']\n",
    "src_file = pjoin(anal_dir, 'rfMRI/rsfc_individual2Cole_{hemi}.pkl')\n",
    "gid_file = pjoin(anal_dir, 'grouping/group_id_{hemi}.npy')\n",
    "out_file = pjoin(work_dir, 'rsfc.mat')\n",
    "\n",
    "n_hemi = len(hemis)\n",
    "hemi2data = {}\n",
    "hemi2gid_vec = {}\n",
    "for hemi in hemis:\n",
    "    hemi2data[hemi] = pkl.load(open(src_file.format(hemi=hemi), 'rb'))\n",
    "    hemi2gid_vec[hemi] = np.load(gid_file.format(hemi=hemi))\n",
    "n_seed = len(seed_names)\n",
    "\n",
    "label2net_cole = {}\n",
    "for k, v in net2label_cole.items():\n",
    "    label2net_cole[v] = k\n",
    "assert hemi2data['lh']['trg_label'] == hemi2data['rh']['trg_label']\n",
    "trg_labels = hemi2data['lh']['trg_label']\n",
    "trg_names = [label2net_cole[_] for _ in trg_labels]\n",
    "n_trg = len(trg_labels)\n",
    "\n",
    "out_data = {\n",
    "    'data_shape': 'n_targets x n_subjects',\n",
    "    'target_label': trg_labels,\n",
    "    'target_name': np.array(trg_names, np.object_)\n",
    "}\n",
    "for gid in gids:\n",
    "    for seed_name in seed_names:\n",
    "        for hemi_idx, hemi in enumerate(hemis):\n",
    "            k = f\"{hemi}_{seed_name.split('-')[0]}_{gid}\"\n",
    "            data = hemi2data[hemi]\n",
    "            gid_vec = hemi2gid_vec[hemi]\n",
    "            gid_idx_vec = gid_vec == gid\n",
    "            v = np.ones_like(data[seed_name]) * np.nan\n",
    "            v[gid_idx_vec] = data[seed_name][gid_idx_vec]\n",
    "            out_data[k] = v.T\n",
    "\n",
    "savemat(out_file, out_data)"
   ]
  },
  {
   "cell_type": "markdown",
   "metadata": {},
   "source": [
    "# save out cortical distances per group"
   ]
  },
  {
   "cell_type": "code",
   "execution_count": 4,
   "metadata": {},
   "outputs": [],
   "source": [
    "method = 'AP_gap-geo'  # 'peak', 'min', 'AP_gap-y', 'AP_gap-geo'\n",
    "hemis = ('lh', 'rh')\n",
    "gids = (1, 2)\n",
    "data_file = pjoin(anal_dir, f'gdist_{method}.csv')\n",
    "gid_file = pjoin(anal_dir, 'grouping/group_id_{hemi}.npy')\n",
    "out_file = pjoin(work_dir, f'cortial_distance_{method}.mat')\n",
    "\n",
    "df = pd.read_csv(data_file)\n",
    "out_data = {}\n",
    "for hemi in hemis:\n",
    "    gid_vec = np.load(gid_file.format(hemi=hemi))\n",
    "    for gid in gids:\n",
    "        k = f'{hemi}_{gid}'\n",
    "        col = f'{hemi}_pFus-mFus'\n",
    "        gid_idx_vec = gid_vec == gid\n",
    "        v = np.ones_like(gid_idx_vec, np.float64) * np.nan\n",
    "        v[gid_idx_vec] = np.array(df[col])[gid_idx_vec] / 10\n",
    "        out_data[k] = v\n",
    "\n",
    "savemat(out_file, out_data)"
   ]
  }
 ],
 "metadata": {
  "interpreter": {
   "hash": "cfe64cd9055702887cc143bd702169c489fc1410f57b397f14c0aca5827645a6"
  },
  "kernelspec": {
   "display_name": "Python 3",
   "language": "python",
   "name": "python3"
  },
  "language_info": {
   "codemirror_mode": {
    "name": "ipython",
    "version": 3
   },
   "file_extension": ".py",
   "mimetype": "text/x-python",
   "name": "python",
   "nbconvert_exporter": "python",
   "pygments_lexer": "ipython3",
   "version": "3.8.5"
  }
 },
 "nbformat": 4,
 "nbformat_minor": 2
}
