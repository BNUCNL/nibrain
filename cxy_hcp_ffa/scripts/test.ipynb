{
 "cells": [
  {
   "cell_type": "code",
   "execution_count": null,
   "metadata": {},
   "outputs": [],
   "source": [
    "import numpy as np\n",
    "import pandas as pd\n",
    "import pickle as pkl\n",
    "from os.path import join as pjoin\n",
    "from scipy.io import savemat, loadmat\n",
    "\n",
    "proj_dir = '/nfs/t3/workingshop/chenxiayu/study/FFA_pattern'\n",
    "anal_dir = pjoin(proj_dir, 'analysis/s2/1080_fROI/refined_with_Kevin')\n",
    "work_dir = '/nfs/s2/userhome/chenxiayu/workingdir/test/ffa_fig'"
   ]
  },
  {
   "cell_type": "code",
   "execution_count": null,
   "metadata": {},
   "outputs": [],
   "source": [
    "meas_name = 'myelin'  # myelin, thickness\n",
    "gids = [0, 1, 2]\n",
    "hemis = ['lh', 'rh']\n",
    "rois = ['pFus-face', 'mFus-face']\n",
    "src_file = pjoin(anal_dir, 'structure/rois_v3_{hemi}_{meas}.pkl')\n",
    "gid_file = pjoin(anal_dir, 'grouping/group_id_{hemi}.npy')\n",
    "out_file = pjoin(work_dir, f'{meas_name}.mat')\n",
    "\n",
    "hemi2data = {}\n",
    "hemi2gid_vec = {}\n",
    "for hemi in hemis:\n",
    "    hemi2data[hemi] = pkl.load(open(src_file.format(hemi=hemi, meas=meas_name), 'rb'))\n",
    "    hemi2gid_vec[hemi] = np.load(gid_file.format(hemi=hemi))\n",
    "\n",
    "out_data = {}\n",
    "for gid in gids:\n",
    "    for roi in rois:\n",
    "        for hemi in hemis:\n",
    "            k = f'{hemi}_{roi}_{gid}'\n",
    "            data = hemi2data[hemi]\n",
    "            gid_vec = hemi2gid_vec[hemi]\n",
    "            v = np.ones_like(gid_vec, np.float64) * np.nan\n",
    "            gid_idx_vec = gid_vec == gid\n",
    "            roi_idx = data['roi'].index(roi)\n",
    "            v[gid_idx_vec] = data['meas'][roi_idx][gid_idx_vec]\n",
    "\n",
    "savemat(out_file, out_data)"
   ]
  }
 ],
 "metadata": {
  "interpreter": {
   "hash": "cfe64cd9055702887cc143bd702169c489fc1410f57b397f14c0aca5827645a6"
  },
  "kernelspec": {
   "display_name": "Python 3.8.5 64-bit ('base': conda)",
   "name": "python3"
  },
  "language_info": {
   "name": "python",
   "version": ""
  },
  "orig_nbformat": 4
 },
 "nbformat": 4,
 "nbformat_minor": 2
}