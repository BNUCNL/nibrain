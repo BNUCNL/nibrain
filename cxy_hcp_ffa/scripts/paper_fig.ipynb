{
 "cells": [
  {
   "cell_type": "code",
   "execution_count": 1,
   "metadata": {},
   "outputs": [],
   "source": [
    "import numpy as np\n",
    "import pandas as pd\n",
    "import pickle as pkl\n",
    "from os.path import join as pjoin\n",
    "from scipy.stats import sem\n",
    "from matplotlib import pyplot as plt\n",
    "from magicbox.algorithm.plot import show_bar_value\n",
    "from nibrain.util.plotfig import auto_bar_width\n",
    "from cxy_hcp_ffa.lib.predefine import roi2color\n",
    "\n",
    "proj_dir = '/nfs/t3/workingshop/chenxiayu/study/FFA_pattern'\n",
    "anal_dir = pjoin(proj_dir, 'analysis/s2/1080_fROI/refined_with_Kevin')\n",
    "work_dir = pjoin(anal_dir, 'paper_fig')"
   ]
  },
  {
   "cell_type": "markdown",
   "metadata": {},
   "source": [
    "# 画出各分组人数百分比"
   ]
  },
  {
   "cell_type": "code",
   "execution_count": 21,
   "metadata": {},
   "outputs": [
    {
     "data": {
      "image/png": "[encoded data removed]",
      "text/plain": [
       "<Figure size 144x129.6 with 1 Axes>"
      ]
     },
     "metadata": {
      "needs_background": "light"
     },
     "output_type": "display_data"
    }
   ],
   "source": [
    "figsize = (2, 1.8)\n",
    "n_subj = 1080\n",
    "gids = (0, 1, 2)\n",
    "gnames = ('single', 'two-C', 'two-S')\n",
    "n_gid = len(gids)\n",
    "hemis = ('lh', 'rh')\n",
    "n_hemi = len(hemis)\n",
    "hemi2color = {'lh': 'w', 'rh': (0.8, 0.8, 0.8, 1)}\n",
    "gid_file = pjoin(anal_dir, 'grouping/group_id_{hemi}.npy')\n",
    "out_file = None\n",
    "# out_file = pjoin(work_dir, 'grouping_incidence_rate.jpg')\n",
    "\n",
    "x = np.arange(n_gid)\n",
    "width = auto_bar_width(x, n_hemi)\n",
    "offset = -(n_hemi - 1) / 2\n",
    "_, ax = plt.subplots(figsize=figsize)\n",
    "for hemi in hemis:\n",
    "    gid_vec = np.load(gid_file.format(hemi=hemi))\n",
    "    assert len(gid_vec) == n_subj\n",
    "    y = np.zeros(n_gid, np.float64)\n",
    "    for gid_idx, gid in enumerate(gids):\n",
    "        y[gid_idx] = np.mean(gid_vec == gid) * 100\n",
    "    rects = ax.bar(x+1.2*width*offset, y, width, label=hemi,\n",
    "                   fc=hemi2color[hemi], ec='k')\n",
    "    # show_bar_value(rects, '.1f')\n",
    "    offset += 1\n",
    "# ax.legend()\n",
    "# ax.set_xlabel('FFA configuration')\n",
    "# ax.set_xticks(x)\n",
    "# ax.set_xticklabels(gnames)\n",
    "# ax.set_ylabel('Percentage of population')\n",
    "ax.set_yticks([0, 100])\n",
    "ax.set_yticklabels([0, 100])\n",
    "ax.tick_params(bottom=False, labelbottom=False, left=False)\n",
    "# ax.set_title('incidence rates')\n",
    "ax.spines['top'].set_visible(False)\n",
    "ax.spines['right'].set_visible(False)\n",
    "plt.tight_layout()\n",
    "if out_file is None:\n",
    "    plt.show()\n",
    "else:\n",
    "    plt.savefig(out_file)"
   ]
  },
  {
   "cell_type": "markdown",
   "metadata": {},
   "source": [
    "# 画surface area"
   ]
  },
  {
   "cell_type": "code",
   "execution_count": 5,
   "metadata": {},
   "outputs": [
    {
     "name": "stdout",
     "output_type": "stream",
     "text": [
      "lh_pFus1: 0\n",
      "lh_pFus2: 0\n",
      "lh_mFus1: 0\n",
      "lh_mFus2: 0\n",
      "rh_pFus1: 0\n",
      "rh_pFus2: 0\n",
      "rh_mFus1: 0\n",
      "rh_mFus2: 0\n"
     ]
    },
    {
     "data": {
      "image/png": "[encoded data removed]",
      "text/plain": [
       "<Figure size 216x129.6 with 1 Axes>"
      ]
     },
     "metadata": {
      "needs_background": "light"
     },
     "output_type": "display_data"
    }
   ],
   "source": [
    "# figsize = None\n",
    "figsize = (3, 1.8)\n",
    "data_file = pjoin(anal_dir, 'structure/rois_v3_{hemi}_va.pkl')\n",
    "hemis = ('lh', 'rh')\n",
    "n_hemi = len(hemis)\n",
    "hemi2color = {'lh': 'w', 'rh': (0.8, 0.8, 0.8, 1)}\n",
    "rois = ('pFus-face', 'mFus-face')\n",
    "n_roi = len(rois)\n",
    "gids = (1, 2)\n",
    "n_gid = len(gids)\n",
    "gid_file = pjoin(anal_dir, 'grouping/group_id_{hemi}.npy')\n",
    "# out_file = None\n",
    "out_file = pjoin(work_dir, 'grouping_surface_area.jpg')\n",
    "\n",
    "x = np.arange(n_roi * n_gid)\n",
    "width = auto_bar_width(x, n_hemi)\n",
    "offset = -(n_hemi - 1) / 2\n",
    "_, ax = plt.subplots(figsize=figsize)\n",
    "xticklabels = []\n",
    "for hemi_idx, hemi in enumerate(hemis):\n",
    "    data = pkl.load(open(data_file.format(hemi=hemi), 'rb'))\n",
    "    gid_vec = np.load(gid_file.format(hemi=hemi))\n",
    "    y = np.zeros_like(x, np.float64)\n",
    "    y_err = np.zeros_like(x, np.float64)\n",
    "    x_idx = 0\n",
    "    dataset = []\n",
    "    for roi in rois:\n",
    "        roi_idx = data['roi'].index(roi)\n",
    "        meas_vec = data['meas'][roi_idx]\n",
    "        for gid in gids:\n",
    "            xticklabel = f\"{roi.split('-')[0]}{gid}\"\n",
    "            meas_tmp = meas_vec[gid_vec == gid]\n",
    "            nan_idx_vec = np.isnan(meas_tmp)\n",
    "            print(f'{hemi}_{xticklabel}:', np.sum(nan_idx_vec))\n",
    "            meas_tmp = meas_tmp[~nan_idx_vec]\n",
    "            y[x_idx] = np.mean(meas_tmp)\n",
    "            y_err[x_idx] = sem(meas_tmp)\n",
    "            dataset.append(meas_tmp)\n",
    "            x_idx += 1\n",
    "            if hemi_idx == 1:\n",
    "                xticklabels.append(xticklabel)\n",
    "    x_tmp = x+1.2*width*offset\n",
    "    rects = ax.bar(x_tmp, y, width, yerr=y_err,\n",
    "                   label=hemi, fc=hemi2color[hemi], ec='k')\n",
    "    # show_bar_value(rects, '.2f')\n",
    "\n",
    "    # violins = ax.violinplot(dataset, x_tmp, widths=width,\n",
    "    #                         showmeans=True, showextrema=False)\n",
    "    # for pc in violins['bodies']:\n",
    "    #     pc.set_facecolor(hemi2color[hemi])\n",
    "    #     pc.set_edgecolor('k')\n",
    "    #     pc.set_alpha(1)\n",
    "    # violins['cmeans'].set_color('k')\n",
    "    # ax.scatter(x_tmp, y, marker='o', color='r', s=30, zorder=2)\n",
    "    # ax.vlines(x_tmp, y-y_err, y+y_err, color='k', linestyle='-', lw=5, zorder=1)\n",
    "\n",
    "    offset += 1\n",
    "# ax.set_xticks(x)\n",
    "# ax.set_xticklabels(xticklabels)\n",
    "ax.set_yticks([200, 300])\n",
    "ax.set_yticklabels([200, 300])\n",
    "# ax.set_ylabel('mm^2')\n",
    "ax.set_ylim(200)\n",
    "ax.tick_params(bottom=False, labelbottom=False, left=False)\n",
    "# ax.set_title('Surface area')\n",
    "ax.spines['top'].set_visible(False)\n",
    "ax.spines['right'].set_visible(False)\n",
    "# ax.legend()\n",
    "plt.tight_layout()\n",
    "if out_file is None:\n",
    "    plt.show()\n",
    "else:\n",
    "    plt.savefig(out_file)"
   ]
  },
  {
   "cell_type": "markdown",
   "metadata": {},
   "source": [
    "# 画测地距离"
   ]
  },
  {
   "cell_type": "code",
   "execution_count": 15,
   "metadata": {},
   "outputs": [
    {
     "name": "stdout",
     "output_type": "stream",
     "text": [
      "#lh_pFus-mFus: 1032\n",
      "#rh_pFus-mFus: 1029\n"
     ]
    },
    {
     "data": {
      "image/png": "[encoded data removed]",
      "text/plain": [
       "<Figure size 108x129.6 with 1 Axes>"
      ]
     },
     "metadata": {
      "needs_background": "light"
     },
     "output_type": "display_data"
    }
   ],
   "source": [
    "# figsize = None\n",
    "figsize = (1.5, 1.8)\n",
    "hemis = ('lh', 'rh')\n",
    "n_hemi = len(hemis)\n",
    "items = ('pFus-mFus',)\n",
    "n_item = len(items)\n",
    "item2color = {'pFus-mFus': 'w'}\n",
    "data_file = pjoin(anal_dir, 'gdist_peak.csv')\n",
    "# out_file = None\n",
    "out_file = pjoin(work_dir, 'geodesic_distance.jpg')\n",
    "\n",
    "df = pd.read_csv(data_file)\n",
    "_, ax = plt.subplots(figsize=figsize)\n",
    "x = np.arange(n_hemi)\n",
    "width = auto_bar_width(x, n_item)\n",
    "offset = -(n_item - 1) / 2\n",
    "for item in items:\n",
    "    ys = np.zeros(n_hemi)\n",
    "    yerrs = np.zeros(n_hemi)\n",
    "    dataset = []\n",
    "    for hemi_idx, hemi in enumerate(hemis):\n",
    "        col = hemi + '_' + item\n",
    "        data = np.array(df[col])\n",
    "        data = data[~np.isnan(data)] / 10\n",
    "        print(f'#{col}: {len(data)}')\n",
    "        ys[hemi_idx] = np.mean(data)\n",
    "        yerrs[hemi_idx] = sem(data)\n",
    "        dataset.append(data)\n",
    "    x_tmp = x + 1.2 * width * offset\n",
    "\n",
    "    # plot bar\n",
    "    rects = ax.bar(x_tmp, ys, width, yerr=yerrs, label=item,\n",
    "                   fc=item2color[item], ec='k')\n",
    "    # show_bar_value(rects, '.2f')\n",
    "\n",
    "    # plot violin\n",
    "    # violins = ax.violinplot(dataset, x_tmp, widths=width,\n",
    "    #                         showmeans=True, showextrema=False)\n",
    "    # for pc in violins['bodies']:\n",
    "    #     pc.set_facecolor(item2color[item])\n",
    "    #     pc.set_edgecolor('k')\n",
    "    #     pc.set_alpha(1)\n",
    "    # violins['cmeans'].set_color('k')\n",
    "\n",
    "    offset += 1\n",
    "# ax.legend()\n",
    "# ax.set_xticks(x)\n",
    "# ax.set_xticklabels(hemis)\n",
    "ax.set_ylim(2)\n",
    "ax.set_yticks([2, 2.5])\n",
    "ax.set_yticklabels([2, 2.5])\n",
    "# ax.set_ylabel('cm')\n",
    "# ax.set_title('Cortical distance\\npFus and mFus')\n",
    "ax.tick_params(bottom=False, labelbottom=False, left=False)\n",
    "ax.spines['top'].set_visible(False)\n",
    "ax.spines['right'].set_visible(False)\n",
    "plt.tight_layout()\n",
    "if out_file is None:\n",
    "    plt.show()\n",
    "else:\n",
    "    plt.savefig(out_file)"
   ]
  },
  {
   "cell_type": "markdown",
   "metadata": {},
   "source": [
    "# 画各组ROI的face selectivity"
   ]
  },
  {
   "cell_type": "code",
   "execution_count": 16,
   "metadata": {},
   "outputs": [
    {
     "data": {
      "image/png": "[encoded data removed]",
      "text/plain": [
       "<Figure size 720x144 with 4 Axes>"
      ]
     },
     "metadata": {
      "needs_background": "light"
     },
     "output_type": "display_data"
    }
   ],
   "source": [
    "# figsize = None\n",
    "figsize = (10, 2)\n",
    "gids = [-1, 0, 1, 2]\n",
    "gid2name = {\n",
    "    -1: 'whole',\n",
    "    0: 'single',\n",
    "    1: 'two-C',\n",
    "    2: 'two-S'\n",
    "}\n",
    "hemis = ['lh', 'rh']\n",
    "rois = ['pFus-face', 'mFus-face']\n",
    "src_file = pjoin(anal_dir, 'tfMRI/individual_activ_{hemi}.pkl')\n",
    "# src_file = pjoin(anal_dir, 'split/tfMRI/activ_{hemi}.pkl')\n",
    "# src_file = pjoin(anal_dir, 'tfMRI/MPM_v3_{hemi}_0.25_activ.pkl')\n",
    "gid_file = pjoin(anal_dir, 'grouping/group_id_{hemi}.npy')\n",
    "# out_file = None\n",
    "out_file = pjoin(work_dir, 'grouping_face_selectivity.jpg')\n",
    "\n",
    "n_hemi = len(hemis)\n",
    "n_roi = len(rois)\n",
    "hemi2data = {}\n",
    "hemi2gid_vec = {}\n",
    "for hemi in hemis:\n",
    "    hemi2data[hemi] = pkl.load(open(src_file.format(hemi=hemi), 'rb'))\n",
    "    hemi2gid_vec[hemi] = np.load(gid_file.format(hemi=hemi))\n",
    "\n",
    "x = np.arange(n_hemi)\n",
    "width = auto_bar_width(x, n_roi)\n",
    "_, axes = plt.subplots(1, len(gids), figsize=figsize)\n",
    "for gid_idx, gid in enumerate(gids):\n",
    "    ax = axes[gid_idx]\n",
    "    offset = -(n_roi - 1) / 2\n",
    "    for roi in rois:\n",
    "        y = np.zeros(n_hemi, np.float64)\n",
    "        y_err = np.zeros(n_hemi, np.float64)\n",
    "        for hemi_idx, hemi in enumerate(hemis):\n",
    "            data = hemi2data[hemi]\n",
    "            gid_vec = hemi2gid_vec[hemi]\n",
    "            if gid == -1:\n",
    "                gid_idx_vec = np.ones_like(gid_vec, bool)\n",
    "            else:\n",
    "                gid_idx_vec = gid_vec == gid\n",
    "            roi_idx = data['roi'].index(roi)\n",
    "            meas = data['meas'][roi_idx][gid_idx_vec]\n",
    "            meas = meas[~np.isnan(meas)]\n",
    "            y[hemi_idx] = np.mean(meas)\n",
    "            y_err[hemi_idx] = sem(meas)\n",
    "        rects = ax.bar(x+width*offset, y, width, yerr=y_err,\n",
    "                       label=roi.split('-')[0], color=roi2color[roi])\n",
    "        show_bar_value(rects, '.2f', ax)\n",
    "        offset += 1\n",
    "    if gid_idx == 1:\n",
    "        ax.legend()\n",
    "    ax.set_xticks(x)\n",
    "    ax.set_xticklabels(hemis)\n",
    "    if gid_idx == 0:\n",
    "        ax.set_ylabel('face selectivity')\n",
    "    ax.set_ylim(4)\n",
    "    ax.set_title(gid2name[gid])\n",
    "    ax.spines['top'].set_visible(False)\n",
    "    ax.spines['right'].set_visible(False)\n",
    "plt.tight_layout()\n",
    "if out_file is None:\n",
    "    plt.show()\n",
    "else:\n",
    "    plt.savefig(out_file)"
   ]
  }
 ],
 "metadata": {
  "interpreter": {
   "hash": "cfe64cd9055702887cc143bd702169c489fc1410f57b397f14c0aca5827645a6"
  },
  "kernelspec": {
   "display_name": "Python",
   "name": "python3"
  },
  "language_info": {
   "codemirror_mode": {
    "name": "ipython",
    "version": 3
   },
   "file_extension": ".py",
   "mimetype": "text/x-python",
   "name": "python",
   "nbconvert_exporter": "python",
   "pygments_lexer": "ipython3",
   "version": "3.8.5"
  },
  "orig_nbformat": 4
 },
 "nbformat": 4,
 "nbformat_minor": 2
}