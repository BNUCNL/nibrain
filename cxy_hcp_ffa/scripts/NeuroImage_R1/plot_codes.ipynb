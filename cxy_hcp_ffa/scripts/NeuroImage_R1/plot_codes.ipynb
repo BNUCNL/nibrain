{
 "cells": [
  {
   "cell_type": "code",
   "execution_count": 1,
   "metadata": {},
   "outputs": [],
   "source": [
    "import os\n",
    "import numpy as np\n",
    "import pandas as pd\n",
    "import pickle as pkl\n",
    "import nibabel as nib\n",
    "from os.path import join as pjoin\n",
    "from scipy.stats.stats import ttest_ind, sem, ttest_rel\n",
    "from matplotlib import pyplot as plt\n",
    "from magicbox.algorithm.plot import plot_bar, auto_bar_width\n",
    "from cxy_hcp_ffa.lib.predefine import proj_dir, roi2label\n",
    "\n",
    "anal_dir = pjoin(proj_dir, 'analysis/s2/1080_fROI/refined_with_Kevin')\n",
    "calc_dir = pjoin(anal_dir, 'NI_R1')\n",
    "work_dir = pjoin(calc_dir, 'plot')\n",
    "if not os.path.isdir(work_dir):\n",
    "    os.makedirs(work_dir)"
   ]
  },
  {
   "cell_type": "markdown",
   "metadata": {},
   "source": [
    "# plot CNR"
   ]
  },
  {
   "cell_type": "code",
   "execution_count": 2,
   "metadata": {},
   "outputs": [
    {
     "name": "stdout",
     "output_type": "stream",
     "text": [
      "#vtx of pFus: 8093\n",
      "#vtx of mFus: 8248\n",
      "Ttest_indResult(statistic=76.64975156084984, pvalue=0.0)\n"
     ]
    },
    {
     "data": {
      "image/png": "[encoded data removed]",
      "text/plain": [
       "<Figure size 172.8x172.8 with 1 Axes>"
      ]
     },
     "metadata": {
      "needs_background": "light"
     },
     "output_type": "display_data"
    }
   ],
   "source": [
    "# fname = 'BOLD_CNR'\n",
    "fname = 'TSNR1'\n",
    "figsize = (2.4, 2.4)\n",
    "cnr_file = pjoin(calc_dir, f'{fname}.pkl')\n",
    "Hemis = ('L', 'R')\n",
    "roi_names = ('pFus', 'mFus')\n",
    "out_file = pjoin(work_dir, f'{fname}.jpg')\n",
    "# out_file = 'show'\n",
    "\n",
    "if fname == 'BOLD_CNR':\n",
    "    ylabel = 'BOLDVar / UnstructNoiseVar'\n",
    "elif fname == 'TSNR1':\n",
    "    ylabel = 'tSNR'\n",
    "else:\n",
    "    ylabel = fname\n",
    "\n",
    "cnr_dict = pkl.load(open(cnr_file, 'rb'))\n",
    "n_roi = len(roi_names)\n",
    "x = np.arange(1, n_roi + 1)\n",
    "data_points = []\n",
    "fig, ax = plt.subplots(figsize=figsize)\n",
    "for roi_name in roi_names:\n",
    "    data_points_tmp = []\n",
    "    for Hemi in Hemis:\n",
    "        data = cnr_dict[f'{Hemi}_{roi_name}']\n",
    "        non_nan_idx_mat = ~np.isnan(data)\n",
    "        data_points_tmp.append(data[non_nan_idx_mat])\n",
    "    data_points.append(np.concatenate(data_points_tmp, 0))\n",
    "    print(f'#vtx of {roi_name}:', len(data_points[-1]))\n",
    "print(ttest_ind(*data_points))\n",
    "ax.violinplot(data_points, x, showmeans=True, showextrema=False)\n",
    "ax.set_xticks(x)\n",
    "ax.set_xticklabels(roi_names)\n",
    "ax.set_ylabel(ylabel)\n",
    "ax.spines['top'].set_visible(False)\n",
    "ax.spines['right'].set_visible(False)\n",
    "if fname == 'BOLD_CNR':\n",
    "    ax.set_ylim(0, 1)\n",
    "\n",
    "fig.tight_layout()\n",
    "if out_file == 'show':\n",
    "    fig.show()\n",
    "else:\n",
    "    fig.savefig(out_file)"
   ]
  },
  {
   "cell_type": "markdown",
   "metadata": {},
   "source": [
    "# plot_fus_pattern_corr"
   ]
  },
  {
   "cell_type": "code",
   "execution_count": 2,
   "metadata": {},
   "outputs": [
    {
     "name": "stdout",
     "output_type": "stream",
     "text": [
      "#singleOrNot-lh-G0: 48\n",
      "#singleOrNot-lh-G1: 1032\n",
      "singleOrNot-lh: Ttest_indResult(statistic=9.305061213801311, pvalue=1.3432188053241675e-20)\n",
      "#singleOrNot-rh-G0: 51\n",
      "#singleOrNot-rh-G1: 1029\n",
      "singleOrNot-rh: Ttest_indResult(statistic=37.96839655640625, pvalue=0.0)\n"
     ]
    },
    {
     "data": {
      "image/png": "[encoded data removed]",
      "text/plain": [
       "<Figure size 216x172.8 with 1 Axes>"
      ]
     },
     "metadata": {
      "needs_background": "light"
     },
     "output_type": "display_data"
    }
   ],
   "source": [
    "mask_name = 'MMP1'\n",
    "# mask_name = 'union1'\n",
    "\n",
    "grouping_type = 'singleOrNot'\n",
    "# grouping_type = 'separateOrNot'\n",
    "# grouping_type = '3group'\n",
    "\n",
    "# meas_name = 'myelin'\n",
    "# meas_name = 'thickness'\n",
    "meas_name = 'curv'\n",
    "# meas_name = 'GBC'\n",
    "# meas_name = 'activ'\n",
    "if mask_name == 'union1':\n",
    "    if grouping_type == 'separateOrNot' and meas_name == 'activ':\n",
    "        ylim = (0.2, 0.3)\n",
    "    elif grouping_type == 'separateOrNot' and meas_name == 'myelin':\n",
    "        ylim = (0.56, 0.63)\n",
    "    elif grouping_type == 'separateOrNot' and meas_name == 'thickness':\n",
    "        ylim = (0.14, 0.19)\n",
    "    elif grouping_type == 'separateOrNot' and meas_name == 'GBC':\n",
    "        ylim = (0.35, 0.45)\n",
    "    elif grouping_type == '3group' and meas_name == 'GBC':\n",
    "        ylim = (0.35, 0.45)\n",
    "    elif grouping_type == '3group' and meas_name == 'thickness':\n",
    "        ylim = (0.14, 0.19)\n",
    "    elif grouping_type == '3group' and meas_name == 'myelin':\n",
    "        ylim = (0.56, 0.63)\n",
    "    elif grouping_type == '3group' and meas_name == 'activ':\n",
    "        ylim = (0.2, 0.3)\n",
    "    elif grouping_type == 'singleOrNot' and meas_name == 'activ':\n",
    "        ylim = (0.15, 0.3)\n",
    "    elif grouping_type == 'singleOrNot' and meas_name == 'curv':\n",
    "        ylim = (0.04, 0.07)\n",
    "    else:\n",
    "        ylim = None\n",
    "elif mask_name == 'MMP1':\n",
    "    if grouping_type == 'singleOrNot' and meas_name == 'curv':\n",
    "        ylim = (0.04, 0.08)\n",
    "    else:\n",
    "        ylim = None\n",
    "else:\n",
    "    raise ValueError\n",
    "\n",
    "labels = ('intra', 'inter')\n",
    "hemis = ('lh', 'rh')\n",
    "hemi2Hemi = {'lh': 'L', 'rh': 'R'}\n",
    "data_file = pjoin(calc_dir, f'Fus-pattern-corr_{mask_name}_{meas_name}.pkl')\n",
    "gid_file = pjoin(anal_dir, 'grouping/group_id_v2_012.csv')\n",
    "out_file = pjoin(work_dir, f'Fus-pattern-corr_{mask_name}_{meas_name}_{grouping_type}.jpg')\n",
    "# out_file = 'show'\n",
    "\n",
    "data = pkl.load(open(data_file, 'rb'))\n",
    "\n",
    "# prepare gids\n",
    "df = pd.read_csv(gid_file)\n",
    "if grouping_type == 'singleOrNot':\n",
    "    gids = (0, 1)\n",
    "    df[df == 2] = 1\n",
    "elif grouping_type == 'separateOrNot':\n",
    "    gids = (1, 2)\n",
    "    df[df == 0] = 1\n",
    "elif grouping_type == '3group':\n",
    "    gids = (0, 1, 2)\n",
    "else:\n",
    "    raise ValueError\n",
    "\n",
    "# prepare x, y\n",
    "n_hemi = len(hemis)\n",
    "ys = np.zeros((2, n_hemi))\n",
    "yerrs = np.zeros((2, n_hemi))\n",
    "for hemi_idx, hemi in enumerate(hemis):\n",
    "    corr_arr = data[f'{hemi2Hemi[hemi]}_Fus']\n",
    "    gid_vec = np.array(df[hemi])\n",
    "    intra_vec = []\n",
    "    inter_vec = []\n",
    "    for gid in gids:\n",
    "        gid_idx_vec = gid_vec == gid\n",
    "        non_gid_idx_vec = ~gid_idx_vec\n",
    "        n_subj_group = np.sum(gid_idx_vec)\n",
    "        print(f'#{grouping_type}-{hemi}-G{gid}:', n_subj_group)\n",
    "\n",
    "        intra_arr = corr_arr[gid_idx_vec][:, gid_idx_vec]\n",
    "        assert n_subj_group == intra_arr.shape[0]\n",
    "        assert n_subj_group == intra_arr.shape[1]\n",
    "        tri_mat = np.tri(n_subj_group, k=-1, dtype=bool)\n",
    "        intra_arr = intra_arr[tri_mat]\n",
    "        intra_vec.extend(intra_arr[~np.isnan(intra_arr)])\n",
    "\n",
    "        inter_arr = corr_arr[gid_idx_vec][:, non_gid_idx_vec]\n",
    "        assert n_subj_group == inter_arr.shape[0]\n",
    "        assert n_subj_group + inter_arr.shape[1] == 1080\n",
    "        inter_vec.extend(inter_arr[~np.isnan(inter_arr)])\n",
    "    ys[0, hemi_idx] = np.mean(intra_vec)\n",
    "    yerrs[0, hemi_idx] = sem(intra_vec)\n",
    "    ys[1, hemi_idx] = np.mean(inter_vec)\n",
    "    yerrs[1, hemi_idx] = sem(inter_vec)\n",
    "    print(f'{grouping_type}-{hemi}:', ttest_ind(intra_vec, inter_vec))\n",
    "\n",
    "# plot\n",
    "plot_bar(\n",
    "    ys, n_row=1, n_col=1, figsize=(3, 2.4), yerr=yerrs, x=None, width=None,\n",
    "    label=labels, color=None, show_height=None, mode=out_file, xlabel=None,\n",
    "    xticklabel=hemis, rotate_xticklabel=False, ylabel=meas_name, ylim=ylim, title=grouping_type\n",
    ")"
   ]
  },
  {
   "cell_type": "markdown",
   "metadata": {},
   "source": [
    "# myelin and thickness gradient distribution"
   ]
  },
  {
   "cell_type": "markdown",
   "metadata": {},
   "source": [
    "## 用组ROI提取个体map和组map的梯度"
   ]
  },
  {
   "cell_type": "code",
   "execution_count": 2,
   "metadata": {},
   "outputs": [
    {
     "data": {
      "image/png": "[encoded data removed]",
      "text/plain": [
       "<Figure size 576x345.6 with 4 Axes>"
      ]
     },
     "metadata": {
      "needs_background": "light"
     },
     "output_type": "display_data"
    }
   ],
   "source": [
    "# We defined the gradient simply as the difference between the MPM pFus-faces and mFus-faces \n",
    "# (“pFus – mFus” for myelin; “mFus – pFus” for thickness). We then calculated the gradient for \n",
    "# each subject to obtain a distribution of individual gradients and observed where the gradient \n",
    "# of the group average map was located in that distribution.\n",
    "figsize = (8, 4.8)\n",
    "meas_names = ('myelin', 'thickness')\n",
    "meas2rois = {\n",
    "    'myelin': ('pFus-face', 'mFus-face'),\n",
    "    'thickness': ('mFus-face', 'pFus-face')}\n",
    "hemis = ('lh', 'rh')\n",
    "meas_file = pjoin(anal_dir, 'structure/MPM_v3_{hemi}_0.25_{meas}.pkl')\n",
    "mpm_file = pjoin(anal_dir, 'MPM_v3_{hemi}_0.25.nii.gz')\n",
    "meas_mean_file = pjoin(anal_dir, 'structure/{meas}_mean-1080_{hemi}.nii.gz')\n",
    "out_file = pjoin(work_dir, 'M-or-T_gradient.jpg')\n",
    "\n",
    "n_row = len(meas_names)\n",
    "n_col = len(hemis)\n",
    "fig, axes = plt.subplots(n_row, n_col, figsize=figsize)\n",
    "for col_idx, hemi in enumerate(hemis):\n",
    "    mpm_map = nib.load(mpm_file.format(hemi=hemi)).get_fdata()\n",
    "    for row_idx, meas_name in enumerate(meas_names):\n",
    "        ax = axes[row_idx, col_idx]\n",
    "        rois = meas2rois[meas_name]\n",
    "        data = pkl.load(open(meas_file.format(hemi=hemi, meas=meas_name), 'rb'))\n",
    "        roi_idx1 = data['roi'].index(rois[0])\n",
    "        roi_idx2 = data['roi'].index(rois[1])\n",
    "        diffs = data['meas'][roi_idx1] - data['meas'][roi_idx2]\n",
    "        ax.hist(diffs, bins=100, orientation='vertical')\n",
    "        ymin, ymax = ax.get_ylim()\n",
    "\n",
    "        meas_mean_map = nib.load(meas_mean_file.format(\n",
    "            meas=meas_name, hemi=hemi)).get_fdata()\n",
    "        roi_idx_map1 = mpm_map == roi2label[rois[0]]\n",
    "        roi_idx_map2 = mpm_map == roi2label[rois[1]]\n",
    "        diff = np.mean(meas_mean_map[roi_idx_map1]) - np.mean(meas_mean_map[roi_idx_map2])\n",
    "        ax.vlines(diff, ymin, ymax, colors='r')\n",
    "\n",
    "        ax.set_xlabel(f'{meas_name} gradient')\n",
    "        if col_idx == 0:\n",
    "            ax.set_ylabel('#subject')\n",
    "        if row_idx == 0:\n",
    "            ax.set_title(hemi)\n",
    "        ax.spines['top'].set_visible(False)\n",
    "        ax.spines['right'].set_visible(False)\n",
    "\n",
    "fig.tight_layout()\n",
    "fig.savefig(out_file)\n"
   ]
  },
  {
   "cell_type": "markdown",
   "metadata": {},
   "source": [
    "## 用个体ROI提取个体map和组map的梯度"
   ]
  },
  {
   "cell_type": "code",
   "execution_count": 2,
   "metadata": {},
   "outputs": [
    {
     "name": "stdout",
     "output_type": "stream",
     "text": [
      "#L_myelin_grad_ind: 1032\n",
      "#L_myelin_grad_grp: 1032\n",
      "L_myelin_grad_ind vs L_myelin_grad_grp: Ttest_relResult(statistic=-2.0204665081134445, pvalue=0.04359318464902845)\n",
      "#L_thickness_grad_ind: 1032\n",
      "#L_thickness_grad_grp: 1032\n",
      "L_thickness_grad_ind vs L_thickness_grad_grp: Ttest_relResult(statistic=0.9793564689643355, pvalue=0.3276336246215469)\n",
      "#R_myelin_grad_ind: 1029\n",
      "#R_myelin_grad_grp: 1029\n",
      "R_myelin_grad_ind vs R_myelin_grad_grp: Ttest_relResult(statistic=-2.126719336404545, pvalue=0.03368107734865827)\n",
      "#R_thickness_grad_ind: 1029\n",
      "#R_thickness_grad_grp: 1029\n",
      "R_thickness_grad_ind vs R_thickness_grad_grp: Ttest_relResult(statistic=1.2594302998681257, pvalue=0.20816082398266672)\n"
     ]
    },
    {
     "data": {
      "image/png": "[encoded data removed]",
      "text/plain": [
       "<Figure size 576x345.6 with 4 Axes>"
      ]
     },
     "metadata": {
      "needs_background": "light"
     },
     "output_type": "display_data"
    }
   ],
   "source": [
    "figsize = (8, 4.8)\n",
    "Hemis = ('L', 'R')\n",
    "meas_names = ('myelin', 'thickness')\n",
    "grad_types = ('ind', 'grp')\n",
    "type2color = {'ind': 'r', 'grp': 'b'}\n",
    "data_file = pjoin(anal_dir, 'NI_R1/MT_gradient.pkl')\n",
    "out_file = pjoin(work_dir, 'MT_gradient.jpg')\n",
    "# out_file = 'show'\n",
    "\n",
    "data = pkl.load(open(data_file, 'rb'))\n",
    "n_row = len(meas_names)\n",
    "n_col = len(Hemis)\n",
    "fig, axes = plt.subplots(n_row, n_col, figsize=figsize)\n",
    "for col_idx, Hemi in enumerate(Hemis):\n",
    "    for row_idx, meas_name in enumerate(meas_names):\n",
    "        ax = axes[row_idx, col_idx]\n",
    "        grad_names = []\n",
    "        samples = []\n",
    "        for grad_type in grad_types:\n",
    "            grad_name = f'{Hemi}_{meas_name}_grad_{grad_type}'\n",
    "            sample = data[grad_name]\n",
    "            sample = sample[~np.isnan(sample)]\n",
    "            print(f'#{grad_name}:', len(sample))\n",
    "            ax.hist(sample, bins=100, orientation='vertical', alpha=0.75,\n",
    "                    color=type2color[grad_type], label=grad_type)\n",
    "            grad_names.append(grad_name)\n",
    "            samples.append(sample)\n",
    "        print(f'{grad_names[0]} vs {grad_names[1]}:', ttest_rel(samples[0], samples[1]))\n",
    "        ax.legend()\n",
    "        ax.set_xlabel(f'{meas_name} gradient')\n",
    "        if col_idx == 0:\n",
    "            ax.set_ylabel('#subject')\n",
    "        if row_idx == 0:\n",
    "            ax.set_title(Hemi)\n",
    "        ax.spines['top'].set_visible(False)\n",
    "        ax.spines['right'].set_visible(False)\n",
    "\n",
    "fig.tight_layout()\n",
    "if out_file == 'show':\n",
    "    fig.show()\n",
    "else:\n",
    "    fig.savefig(out_file)\n"
   ]
  },
  {
   "cell_type": "markdown",
   "metadata": {},
   "source": [
    "# Figure 1C/D"
   ]
  },
  {
   "cell_type": "code",
   "execution_count": 3,
   "metadata": {},
   "outputs": [
    {
     "name": "stdout",
     "output_type": "stream",
     "text": [
      "#lh_pFus-mFus: 781\n",
      "#lh_pFus-mFus: 251\n",
      "#rh_pFus-mFus: 708\n",
      "#rh_pFus-mFus: 321\n"
     ]
    },
    {
     "data": {
      "image/png": "[encoded data removed]",
      "text/plain": [
       "<Figure size 128.16x131.4 with 1 Axes>"
      ]
     },
     "metadata": {},
     "output_type": "display_data"
    }
   ],
   "source": [
    "method = 'peak'\n",
    "figsize = (1.78, 1.825)\n",
    "gids = (2, 1)\n",
    "\n",
    "# method = 'min1'\n",
    "# figsize = (0.945, 1.825)\n",
    "# gids = (2,)\n",
    "\n",
    "method2ylim = {\n",
    "    'peak': (0, 6),\n",
    "    'min1': (-0.1, 3.5)}\n",
    "\n",
    "flierprops = {'markersize': 3}\n",
    "gid2name = {1: 'continuous', 2: 'separate'}\n",
    "gid_file = pjoin(anal_dir, 'grouping/group_id_v2.csv')\n",
    "\n",
    "hemis = ('lh', 'rh')\n",
    "hemi2color = {\n",
    "    'lh': (0.88, 0.61, 0.13, 1.00),\n",
    "    'rh': (0.96, 0.85, 0.76, 1.00)}\n",
    "data_file = pjoin(anal_dir, f'gdist_{method}.csv')\n",
    "\n",
    "out_file = pjoin(work_dir, f'grouping_distance_{method}.svg')\n",
    "# out_file = None\n",
    "\n",
    "n_gid = len(gids)\n",
    "n_hemi = len(hemis)\n",
    "gid_df = pd.read_csv(gid_file)\n",
    "df = pd.read_csv(data_file)\n",
    "\n",
    "fig, ax = plt.subplots(figsize=figsize)\n",
    "x = np.arange(n_gid)\n",
    "width = 0.25\n",
    "offset = -(n_hemi - 1) / 2\n",
    "for hemi_idx, hemi in enumerate(hemis):\n",
    "    col = f'{hemi}_pFus-mFus'\n",
    "    dataset = []\n",
    "    for gid_idx, gid in enumerate(gids):\n",
    "        gid_idx_vec = gid_df[hemi] == gid\n",
    "        data = np.array(df[col])[gid_idx_vec]\n",
    "        data = data / 10\n",
    "        print(f'#{col}: {len(data)}')\n",
    "        dataset.append(data)\n",
    "\n",
    "    bplot = ax.boxplot(\n",
    "        dataset, positions=x + width * offset,\n",
    "        patch_artist=True, notch=True, flierprops=flierprops)\n",
    "    for patch in bplot['boxes']:\n",
    "        patch.set_facecolor(hemi2color[hemi])\n",
    "    offset += 1\n",
    "\n",
    "ax.set_xticks(x)\n",
    "ax.set_xticklabels(gids)\n",
    "# ax.set_ylabel('cm')\n",
    "ax.set_ylim(*method2ylim[method])\n",
    "ax.set_yticks(method2ylim[method])\n",
    "ax.set_yticklabels(method2ylim[method])\n",
    "# ax.set_title(method)\n",
    "ax.tick_params(bottom=True, labelbottom=False, labelleft=False, left=True)\n",
    "ax.spines['top'].set_visible(False)\n",
    "ax.spines['right'].set_visible(False)\n",
    "fig.tight_layout()\n",
    "if out_file is None:\n",
    "    fig.show()\n",
    "else:\n",
    "    fig.savefig(out_file)"
   ]
  }
 ],
 "metadata": {
  "interpreter": {
   "hash": "ded51e6ae5fb79fea0b0420ae45d65595baa7e9f6ec8445524f1c7cb23aaaa4c"
  },
  "kernelspec": {
   "display_name": "Python 3.8.5 ('base')",
   "language": "python",
   "name": "python3"
  },
  "language_info": {
   "codemirror_mode": {
    "name": "ipython",
    "version": 3
   },
   "file_extension": ".py",
   "mimetype": "text/x-python",
   "name": "python",
   "nbconvert_exporter": "python",
   "pygments_lexer": "ipython3",
   "version": "3.8.5"
  },
  "orig_nbformat": 4
 },
 "nbformat": 4,
 "nbformat_minor": 2
}
