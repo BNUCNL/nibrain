{
 "cells": [
  {
   "cell_type": "code",
   "execution_count": 1,
   "metadata": {},
   "outputs": [],
   "source": [
    "import os\n",
    "import numpy as np\n",
    "import pandas as pd\n",
    "import pickle as pkl\n",
    "from os.path import join as pjoin\n",
    "from scipy.stats.stats import ttest_ind, sem\n",
    "from matplotlib import pyplot as plt\n",
    "from magicbox.algorithm.plot import plot_bar\n",
    "from cxy_hcp_ffa.lib.predefine import proj_dir\n",
    "\n",
    "anal_dir = pjoin(proj_dir, 'analysis/s2/1080_fROI/refined_with_Kevin')\n",
    "calc_dir = pjoin(anal_dir, 'NI_R1')\n",
    "work_dir = pjoin(calc_dir, 'plot')\n",
    "if not os.path.isdir(work_dir):\n",
    "    os.makedirs(work_dir)"
   ]
  },
  {
   "cell_type": "markdown",
   "metadata": {},
   "source": [
    "# plot CNR"
   ]
  },
  {
   "cell_type": "code",
   "execution_count": 5,
   "metadata": {},
   "outputs": [
    {
     "name": "stdout",
     "output_type": "stream",
     "text": [
      "#vtx of pFus: 8100\n",
      "#vtx of mFus: 8256\n",
      "Ttest_indResult(statistic=46.94635613147561, pvalue=0.0)\n"
     ]
    },
    {
     "data": {
      "image/png": "[encoded data removed]",
      "text/plain": [
       "<Figure size 172.8x172.8 with 1 Axes>"
      ]
     },
     "metadata": {
      "needs_background": "light"
     },
     "output_type": "display_data"
    }
   ],
   "source": [
    "meas_name = 'BOLD_CNR'\n",
    "figsize = (2.4, 2.4)\n",
    "cnr_file = pjoin(calc_dir, f'{meas_name}.pkl')\n",
    "Hemis = ('L', 'R')\n",
    "roi_names = ('pFus', 'mFus')\n",
    "out_file = pjoin(work_dir, f'{meas_name}.jpg')\n",
    "\n",
    "cnr_dict = pkl.load(open(cnr_file, 'rb'))\n",
    "n_roi = len(roi_names)\n",
    "x = np.arange(1, n_roi + 1)\n",
    "data_points = []\n",
    "fig, ax = plt.subplots(figsize=figsize)\n",
    "for roi_name in roi_names:\n",
    "    data_points_tmp = []\n",
    "    for Hemi in Hemis:\n",
    "        data = cnr_dict[f'{Hemi}_{roi_name}']\n",
    "        non_nan_idx_mat = ~np.isnan(data)\n",
    "        data_points_tmp.append(data[non_nan_idx_mat])\n",
    "    data_points.append(np.concatenate(data_points_tmp, 0))\n",
    "    print(f'#vtx of {roi_name}:', len(data_points[-1]))\n",
    "print(ttest_ind(*data_points))\n",
    "ax.violinplot(data_points, x, showmeans=True, showextrema=False)\n",
    "ax.set_xticks(x)\n",
    "ax.set_xticklabels(roi_names)\n",
    "ax.set_ylabel(meas_name)\n",
    "ax.spines['top'].set_visible(False)\n",
    "ax.spines['right'].set_visible(False)\n",
    "if meas_name == 'BOLD_CNR':\n",
    "    ax.set_ylim(0, 1)\n",
    "\n",
    "fig.tight_layout()\n",
    "if out_file is None:\n",
    "    fig.show()\n",
    "else:\n",
    "    fig.savefig(out_file)"
   ]
  },
  {
   "cell_type": "markdown",
   "metadata": {},
   "source": [
    "# plot_fus_pattern_corr"
   ]
  },
  {
   "cell_type": "code",
   "execution_count": 15,
   "metadata": {},
   "outputs": [
    {
     "name": "stdout",
     "output_type": "stream",
     "text": [
      "#3group-lh-G0: 48\n",
      "#3group-lh-G1: 251\n",
      "#3group-lh-G2: 781\n",
      "3group-lh: Ttest_indResult(statistic=-1.0439963539659445, pvalue=0.29648738122535373)\n",
      "#3group-rh-G0: 51\n",
      "#3group-rh-G1: 321\n",
      "#3group-rh-G2: 708\n",
      "3group-rh: Ttest_indResult(statistic=-7.909469146988408, pvalue=2.587914880370448e-15)\n"
     ]
    },
    {
     "data": {
      "image/png": "[encoded data removed]",
      "text/plain": [
       "<Figure size 216x172.8 with 1 Axes>"
      ]
     },
     "metadata": {
      "needs_background": "light"
     },
     "output_type": "display_data"
    }
   ],
   "source": [
    "# grouping_type = 'singleOrNot'\n",
    "# grouping_type = 'separateOrNot'\n",
    "grouping_type = '3group'\n",
    "\n",
    "# meas_name = 'myelin'\n",
    "# meas_name = 'thickness'\n",
    "# meas_name = 'curv'\n",
    "# meas_name = 'GBC'\n",
    "meas_name = 'activ'\n",
    "\n",
    "if grouping_type == 'separateOrNot' and meas_name == 'activ':\n",
    "    ylim = (0.2, 0.3)\n",
    "elif grouping_type == 'separateOrNot' and meas_name == 'myelin':\n",
    "    ylim = (0.56, 0.63)\n",
    "elif grouping_type == 'separateOrNot' and meas_name == 'thickness':\n",
    "    ylim = (0.14, 0.19)\n",
    "elif grouping_type == 'separateOrNot' and meas_name == 'GBC':\n",
    "    ylim = (0.35, 0.45)\n",
    "elif grouping_type == '3group' and meas_name == 'GBC':\n",
    "    ylim = (0.35, 0.45)\n",
    "elif grouping_type == '3group' and meas_name == 'thickness':\n",
    "    ylim = (0.14, 0.19)\n",
    "elif grouping_type == '3group' and meas_name == 'myelin':\n",
    "    ylim = (0.56, 0.63)\n",
    "elif grouping_type == '3group' and meas_name == 'activ':\n",
    "    ylim = (0.2, 0.3)\n",
    "else:\n",
    "    ylim = None\n",
    "\n",
    "labels = ('intra', 'inter')\n",
    "hemis = ('lh', 'rh')\n",
    "hemi2Hemi = {'lh': 'L', 'rh': 'R'}\n",
    "mask_name = 'union1'\n",
    "data_file = pjoin(calc_dir, f'Fus-pattern-corr_{mask_name}_{meas_name}.pkl')\n",
    "gid_file = pjoin(anal_dir, 'grouping/group_id_v2_012.csv')\n",
    "out_file = pjoin(work_dir, f'Fus-pattern-corr_{mask_name}_{meas_name}_{grouping_type}.jpg')\n",
    "\n",
    "data = pkl.load(open(data_file, 'rb'))\n",
    "\n",
    "# prepare gids\n",
    "df = pd.read_csv(gid_file)\n",
    "if grouping_type == 'singleOrNot':\n",
    "    gids = (0, 1)\n",
    "    df[df == 2] = 1\n",
    "elif grouping_type == 'separateOrNot':\n",
    "    gids = (1, 2)\n",
    "    df[df == 0] = 1\n",
    "elif grouping_type == '3group':\n",
    "    gids = (0, 1, 2)\n",
    "else:\n",
    "    raise ValueError\n",
    "\n",
    "# prepare x, y\n",
    "n_hemi = len(hemis)\n",
    "ys = np.zeros((2, n_hemi))\n",
    "yerrs = np.zeros((2, n_hemi))\n",
    "for hemi_idx, hemi in enumerate(hemis):\n",
    "    corr_arr = data[f'{hemi2Hemi[hemi]}_Fus']\n",
    "    gid_vec = np.array(df[hemi])\n",
    "    intra_vec = []\n",
    "    inter_vec = []\n",
    "    for gid in gids:\n",
    "        gid_idx_vec = gid_vec == gid\n",
    "        non_gid_idx_vec = ~gid_idx_vec\n",
    "        n_subj_group = np.sum(gid_idx_vec)\n",
    "        print(f'#{grouping_type}-{hemi}-G{gid}:', n_subj_group)\n",
    "\n",
    "        intra_arr = corr_arr[gid_idx_vec][:, gid_idx_vec]\n",
    "        assert n_subj_group == intra_arr.shape[0]\n",
    "        assert n_subj_group == intra_arr.shape[1]\n",
    "        tri_mat = np.tri(n_subj_group, k=-1, dtype=bool)\n",
    "        intra_arr = intra_arr[tri_mat]\n",
    "        intra_vec.extend(intra_arr[~np.isnan(intra_arr)])\n",
    "\n",
    "        inter_arr = corr_arr[gid_idx_vec][:, non_gid_idx_vec]\n",
    "        assert n_subj_group == inter_arr.shape[0]\n",
    "        assert n_subj_group + inter_arr.shape[1] == 1080\n",
    "        inter_vec.extend(inter_arr[~np.isnan(inter_arr)])\n",
    "    ys[0, hemi_idx] = np.mean(intra_vec)\n",
    "    yerrs[0, hemi_idx] = sem(intra_vec)\n",
    "    ys[1, hemi_idx] = np.mean(inter_vec)\n",
    "    yerrs[1, hemi_idx] = sem(inter_vec)\n",
    "    print(f'{grouping_type}-{hemi}:', ttest_ind(intra_vec, inter_vec))\n",
    "\n",
    "# plot\n",
    "plot_bar(\n",
    "    ys, n_row=1, n_col=1, figsize=(3, 2.4), yerr=yerrs, x=None, width=None,\n",
    "    label=labels, color=None, show_height=None, mode=out_file, xlabel=None,\n",
    "    xticklabel=hemis, rotate_xticklabel=False, ylabel=meas_name, ylim=ylim, title=grouping_type\n",
    ")"
   ]
  }
 ],
 "metadata": {
  "interpreter": {
   "hash": "ded51e6ae5fb79fea0b0420ae45d65595baa7e9f6ec8445524f1c7cb23aaaa4c"
  },
  "kernelspec": {
   "display_name": "Python 3.8.5 ('base')",
   "language": "python",
   "name": "python3"
  },
  "language_info": {
   "codemirror_mode": {
    "name": "ipython",
    "version": 3
   },
   "file_extension": ".py",
   "mimetype": "text/x-python",
   "name": "python",
   "nbconvert_exporter": "python",
   "pygments_lexer": "ipython3",
   "version": "3.8.5"
  },
  "orig_nbformat": 4
 },
 "nbformat": 4,
 "nbformat_minor": 2
}
