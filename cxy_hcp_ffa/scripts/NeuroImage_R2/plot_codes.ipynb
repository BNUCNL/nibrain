{
 "cells": [
  {
   "cell_type": "code",
   "execution_count": 1,
   "metadata": {},
   "outputs": [],
   "source": [
    "import os\n",
    "import numpy as np\n",
    "import pickle as pkl\n",
    "from os.path import join as pjoin\n",
    "from scipy.stats.stats import ttest_ind\n",
    "from matplotlib import pyplot as plt\n",
    "from magicbox.stats import EffectSize\n",
    "from cxy_hcp_ffa.lib.predefine import proj_dir\n",
    "\n",
    "anal_dir = pjoin(proj_dir, 'analysis/s2/1080_fROI/refined_with_Kevin')\n",
    "calc_dir = pjoin(anal_dir, 'NI_R2')\n",
    "work_dir = pjoin(calc_dir, 'plot')\n",
    "if not os.path.isdir(work_dir):\n",
    "    os.makedirs(work_dir)"
   ]
  },
  {
   "cell_type": "markdown",
   "metadata": {},
   "source": [
    "# Plot BOLD CNR"
   ]
  },
  {
   "cell_type": "code",
   "execution_count": 2,
   "metadata": {},
   "outputs": [
    {
     "name": "stdout",
     "output_type": "stream",
     "text": [
      "#subject of pFus: 2038\n",
      "#subject of mFus: 2078\n",
      "Ttest_indResult(statistic=26.615238744361672, pvalue=3.8479468771119845e-144)\n",
      "CohenD: 0.8297422178246002\n"
     ]
    },
    {
     "data": {
      "image/png": "[encoded data removed]",
      "text/plain": [
       "<Figure size 144x172.8 with 1 Axes>"
      ]
     },
     "metadata": {
      "needs_background": "light"
     },
     "output_type": "display_data"
    }
   ],
   "source": [
    "ylims = (0, 0.35)\n",
    "fname = 'individual-FFA_BOLD-CNR'\n",
    "figsize = (2, 2.4)\n",
    "cnr_file = pjoin(calc_dir, f'CNR/{fname}.pkl')\n",
    "ylabel = 'BOLD CNR'\n",
    "Hemis = ('L', 'R')\n",
    "roi_names = ('pFus', 'mFus')\n",
    "out_file = pjoin(work_dir, f'{fname}.svg')\n",
    "# out_file = 'show'\n",
    "\n",
    "es = EffectSize()\n",
    "cnr_dict = pkl.load(open(cnr_file, 'rb'))\n",
    "n_roi = len(roi_names)\n",
    "x = np.arange(1, n_roi + 1)\n",
    "data_points = []\n",
    "fig, ax = plt.subplots(figsize=figsize)\n",
    "for roi_name in roi_names:\n",
    "    data_points_tmp = []\n",
    "    for Hemi in Hemis:\n",
    "        data = cnr_dict[f'{Hemi}_{roi_name}']\n",
    "        data_points_tmp.extend(data[~np.isnan(data)])\n",
    "    data_points.append(data_points_tmp)\n",
    "    print(f'#subject of {roi_name}:', len(data_points_tmp))\n",
    "print(ttest_ind(*data_points))\n",
    "print(f'CohenD: {es.cohen_d(*data_points)}')\n",
    "ax.violinplot(data_points, x, showmeans=True, showextrema=False)\n",
    "ax.set_xticks(x)\n",
    "ax.set_xticklabels(roi_names)\n",
    "ax.set_ylabel(ylabel)\n",
    "ax.set_ylim(*ylims)\n",
    "ax.set_yticks(ylims)\n",
    "ax.spines['top'].set_visible(False)\n",
    "ax.spines['right'].set_visible(False)\n",
    "\n",
    "fig.tight_layout()\n",
    "if out_file == 'show':\n",
    "    fig.show()\n",
    "else:\n",
    "    fig.savefig(out_file)"
   ]
  },
  {
   "cell_type": "markdown",
   "metadata": {},
   "source": [
    "# Plot zstat corr beta"
   ]
  },
  {
   "cell_type": "code",
   "execution_count": 2,
   "metadata": {},
   "outputs": [
    {
     "data": {
      "image/png": "[encoded data removed]",
      "text/plain": [
       "<Figure size 144x172.8 with 1 Axes>"
      ]
     },
     "metadata": {
      "needs_background": "light"
     },
     "output_type": "display_data"
    }
   ],
   "source": [
    "figsize = (2, 2.4)\n",
    "fname = 'corr_in_FFC'\n",
    "roi_names = ('L_FFC', 'R_FFC')\n",
    "fpath = pjoin(calc_dir, f'zstat_corr_beta/{fname}.pkl')\n",
    "out_file = pjoin(work_dir, f'{fname}.svg')\n",
    "# out_file = 'show'\n",
    "\n",
    "n_roi = len(roi_names)\n",
    "x = np.arange(1, n_roi + 1)\n",
    "data = pkl.load(open(fpath, 'rb'))\n",
    "datasets = []\n",
    "fig, ax = plt.subplots(figsize=figsize)\n",
    "for roi in roi_names:\n",
    "    datasets.append(data[roi][~np.isnan(data[roi])])\n",
    "ax.violinplot(datasets, x, showmeans=True, showextrema=False)\n",
    "ax.set_xticks(x)\n",
    "ax.set_xticklabels(roi_names)\n",
    "ax.set_ylabel('r')\n",
    "# ax.set_ylim(*ylims)\n",
    "# ax.set_yticks(ylims)\n",
    "ax.spines['top'].set_visible(False)\n",
    "ax.spines['right'].set_visible(False)\n",
    "\n",
    "fig.tight_layout()\n",
    "if out_file == 'show':\n",
    "    fig.show()\n",
    "else:\n",
    "    fig.savefig(out_file)"
   ]
  }
 ],
 "metadata": {
  "kernelspec": {
   "display_name": "Python 3.8.5 ('base')",
   "language": "python",
   "name": "python3"
  },
  "language_info": {
   "codemirror_mode": {
    "name": "ipython",
    "version": 3
   },
   "file_extension": ".py",
   "mimetype": "text/x-python",
   "name": "python",
   "nbconvert_exporter": "python",
   "pygments_lexer": "ipython3",
   "version": "3.8.5"
  },
  "orig_nbformat": 4,
  "vscode": {
   "interpreter": {
    "hash": "ded51e6ae5fb79fea0b0420ae45d65595baa7e9f6ec8445524f1c7cb23aaaa4c"
   }
  }
 },
 "nbformat": 4,
 "nbformat_minor": 2
}
