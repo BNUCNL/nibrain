{
 "cells": [
  {
   "cell_type": "code",
   "execution_count": 1,
   "metadata": {},
   "outputs": [],
   "source": [
    "import os\n",
    "import numpy as np\n",
    "import pandas as pd\n",
    "from os.path import join as pjoin\n",
    "from scipy.stats.stats import sem, zscore\n",
    "from matplotlib import pyplot as plt\n",
    "from cxy_visual_dev.lib.predefine import dataset_name2info, proj_dir\n",
    "\n",
    "anal_dir = pjoin(proj_dir, 'analysis')\n",
    "work_dir = pjoin(anal_dir, 'plot/plot_age_line')\n",
    "if not os.path.isdir(work_dir):\n",
    "    os.makedirs(work_dir)"
   ]
  },
  {
   "cell_type": "markdown",
   "metadata": {},
   "source": [
    "# plot same column of CSV files in one axis"
   ]
  },
  {
   "cell_type": "code",
   "execution_count": 2,
   "metadata": {},
   "outputs": [],
   "source": [
    "def plot_same_cols_in_one_ax(fpaths, age_name, columns, n_row, n_col, yerr_flag=True, zscore_flag=False, info_file=None,\n",
    "                             ylabel=None, title='col_name', labels=None, figsize=None, remove_ages=[],\n",
    "                             out_file=None):\n",
    "    \"\"\"\n",
    "    把多个文件中同名的column画到同一个axis里，不同名的column画到不同axis里\n",
    "\n",
    "    Args:\n",
    "        fpaths (str | strings):\n",
    "            不同文件的行要统一\n",
    "        age_name (str): column name of age\n",
    "        columns (str | strings): 指定要画的列\n",
    "            'all': all columns of fpaths[0]\n",
    "            len(columns) <= n_row * n_col\n",
    "        n_row (int): axes的行数\n",
    "        n_col (int): axes的列数\n",
    "        yerr_flag (bool, optional): Defaults to True\n",
    "            True: 显示errorbar\n",
    "        zscore_flag (bool, optional): Defaults to False.\n",
    "            True: 在画线之前进行zscore（对某个模态的所有被试做，而不是某个年龄内部做）\n",
    "        info_file (str, optional): Defaults to None.\n",
    "            如果提供这个文件，则在该文件中找age信息\n",
    "            不然就从fpaths[0]里找\n",
    "        ylabel (str, optional): Defaults to None.\n",
    "        title (str, optional): Defaults to 'col_name'.\n",
    "            None: 不显示标题\n",
    "            'col_name': 以对应的列名做为每个axis的标题\n",
    "            其它字符串：在第一行中间的axis上显示该字符串为标题\n",
    "        labels (strings, optional): Defaults to None.\n",
    "            和文件一一对应，标记对应曲线的label。\n",
    "        figsize (tuple, optional): Defaults to None.\n",
    "        remove_ages (integers, optional): Defaults to [].\n",
    "            去掉这些年龄\n",
    "        out_file (str, optional): Defaults to None.\n",
    "            None: 只画不存\n",
    "    \"\"\"\n",
    "    if isinstance(fpaths, str):\n",
    "        fpaths = [fpaths]\n",
    "    n_file = len(fpaths)\n",
    "    dfs = [pd.read_csv(i) for i in fpaths]\n",
    "    if info_file is None:\n",
    "        ages = np.array(dfs[0][age_name])\n",
    "    else:\n",
    "        info_df = pd.read_csv(info_file)\n",
    "        ages = np.array(info_df[age_name])\n",
    "    age_uniq = np.unique(ages).tolist()\n",
    "    for i in remove_ages:\n",
    "        age_uniq.remove(i)\n",
    "    n_age = len(age_uniq)\n",
    "\n",
    "    if columns == 'all':\n",
    "        columns = dfs[0].columns.to_list()\n",
    "    elif isinstance(columns, str):\n",
    "        columns = [columns]\n",
    "    n_col = len(columns)\n",
    "    assert n_col <= n_row * n_col\n",
    "\n",
    "    if labels is None:\n",
    "        labels = [None] * n_file\n",
    "    elif isinstance(labels, str):\n",
    "        labels = [labels] * n_file\n",
    "    else:\n",
    "        assert len(labels) == n_file\n",
    "\n",
    "    _, axes = plt.subplots(n_row, n_col, figsize=figsize)\n",
    "    if n_row == 1 and n_col == 1:\n",
    "        axes = np.array([[axes]])\n",
    "    elif axes.shape != (n_row, n_col):\n",
    "        axes = axes.reshape((n_row, n_col))\n",
    "    max_row_idx = int((n_col-1) / n_col)\n",
    "    for column_idx, col in enumerate(columns):\n",
    "        row_idx = int(column_idx / n_col)\n",
    "        col_idx = column_idx % n_col\n",
    "        ax = axes[row_idx, col_idx]\n",
    "        for f_idx, df in enumerate(dfs):\n",
    "            meas_vec = np.array(df[col])\n",
    "            non_nan_vec = ~np.isnan(meas_vec)\n",
    "            meas_vec = meas_vec[non_nan_vec]\n",
    "            if zscore_flag:\n",
    "                meas_vec = zscore(meas_vec)\n",
    "            ages_tmp = ages[non_nan_vec]\n",
    "            y = np.zeros(n_age, np.float64)\n",
    "            yerr = np.zeros(n_age, np.float64)\n",
    "            for age_idx, age in enumerate(age_uniq):\n",
    "                meas_tmp = meas_vec[ages_tmp == age]\n",
    "                n_meas = len(meas_tmp)\n",
    "                if n_meas in (0, 1):\n",
    "                    raise ValueError(f'#{labels[f_idx]}-{age}:', n_meas)\n",
    "                elif n_meas < 10:\n",
    "                    print(f'#{labels[f_idx]}-{age}:', n_meas)\n",
    "                y[age_idx] = np.mean(meas_tmp)\n",
    "                yerr[age_idx] = sem(meas_tmp)\n",
    "            if yerr_flag:\n",
    "                ax.errorbar(age_uniq, y, yerr, label=labels[f_idx])\n",
    "            else:\n",
    "                ax.errorbar(age_uniq, y, label=labels[f_idx])\n",
    "        ax.legend()\n",
    "        if col_idx == 0 and ylabel is not None:\n",
    "            ax.set_ylabel(ylabel)\n",
    "        if row_idx == max_row_idx:\n",
    "            ax.set_xlabel(age_name)\n",
    "        if title is None:\n",
    "            pass\n",
    "        elif title == 'col_name':\n",
    "            ax.set_title(col)\n",
    "        else:\n",
    "            if row_idx == 0 and col_idx == int(n_col/2):\n",
    "                ax.set_title(title)\n",
    "        ax.spines['top'].set_visible(False)\n",
    "        ax.spines['right'].set_visible(False)\n",
    "    plt.tight_layout()\n",
    "    if out_file is None:\n",
    "        plt.show()\n",
    "    else:\n",
    "        plt.savefig(out_file)"
   ]
  },
  {
   "cell_type": "code",
   "execution_count": 15,
   "metadata": {},
   "outputs": [
    {
     "data": {
      "image/png": "[encoded data removed]",
      "text/plain": [
       "<Figure size 432x216 with 1 Axes>"
      ]
     },
     "metadata": {
      "needs_background": "light"
     },
     "output_type": "display_data"
    }
   ],
   "source": [
    "col = 'C1'\n",
    "plot_same_cols_in_one_ax(\n",
    "    fpaths=[\n",
    "        pjoin(anal_dir, 'decomposition/HCPY-M+T_L+R_MMP_vis2_zscore1-split_FA1-subj_M.csv'),\n",
    "        pjoin(anal_dir, 'decomposition/HCPY-M+T_L+R_MMP_vis2_zscore1-split_FA1-subj_T.csv')\n",
    "    ], age_name='age in years', columns=col, n_row=1, n_col=1, yerr_flag=True, zscore_flag=True,\n",
    "    info_file=dataset_name2info['HCPY'], title=f'HCPY-M+T_L+R_MMP_vis2_zscore1-split_FA1-subj_{col}',\n",
    "    labels=['myelin', 'thickness'], figsize=(6, 3), remove_ages=[37],\n",
    "    out_file=pjoin(work_dir, f'HCPY-M+T_L+R_MMP_vis2_zscore1-split_FA1-subj_{col}.jpg')\n",
    ")"
   ]
  }
 ],
 "metadata": {
  "interpreter": {
   "hash": "ded51e6ae5fb79fea0b0420ae45d65595baa7e9f6ec8445524f1c7cb23aaaa4c"
  },
  "kernelspec": {
   "display_name": "Python 3.8.5 64-bit ('base': conda)",
   "name": "python3"
  },
  "language_info": {
   "codemirror_mode": {
    "name": "ipython",
    "version": 3
   },
   "file_extension": ".py",
   "mimetype": "text/x-python",
   "name": "python",
   "nbconvert_exporter": "python",
   "pygments_lexer": "ipython3",
   "version": "3.8.5"
  },
  "orig_nbformat": 4
 },
 "nbformat": 4,
 "nbformat_minor": 2
}
