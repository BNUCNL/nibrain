{
 "cells": [
  {
   "cell_type": "code",
   "execution_count": 1,
   "metadata": {},
   "outputs": [],
   "source": [
    "import os\n",
    "import numpy as np\n",
    "import pickle as pkl\n",
    "from os.path import join as pjoin\n",
    "from matplotlib import pyplot as plt, colors\n",
    "from statsmodels.stats.multitest import multipletests\n",
    "from cxy_visual_dev.lib.predefine import proj_dir\n",
    "\n",
    "anal_dir = pjoin(proj_dir, 'analysis')\n",
    "work_dir = pjoin(anal_dir, 'plot/plot_RSM')\n",
    "if not os.path.isdir(work_dir):\n",
    "    os.makedirs(work_dir)"
   ]
  },
  {
   "cell_type": "code",
   "execution_count": 6,
   "metadata": {},
   "outputs": [
    {
     "data": {
      "image/png": "[encoded data removed]",
      "text/plain": [
       "<Figure size 216x216 with 1 Axes>"
      ]
     },
     "metadata": {
      "needs_background": "light"
     },
     "output_type": "display_data"
    }
   ],
   "source": [
    "class MidpointNormalize(colors.Normalize):\n",
    "    # https://matplotlib.org/stable/gallery/userdemo/colormap_normalizations.html\n",
    "    def __init__(self, vmin=None, vmax=None, midpoint=None, clip=False):\n",
    "        self.midpoint = midpoint\n",
    "        super().__init__(vmin, vmax, clip)\n",
    "\n",
    "    def __call__(self, value, clip=None):\n",
    "        # I'm ignoring masked values and all kinds of edge cases to make a\n",
    "        # simple example...\n",
    "        x, y = [self.vmin, self.midpoint, self.vmax], [0, 0.5, 1]\n",
    "        return np.ma.masked_array(np.interp(value, x, y))\n",
    "\n",
    "\n",
    "figsize = (3, 3)\n",
    "data = pkl.load(open(pjoin(anal_dir, 'RSM/EA_C2_RSM.pkl'), 'rb'))\n",
    "out_file = pjoin(work_dir, 'EA_C2_RSM.jpg')\n",
    "assert data['row_name'] == data['col_name']\n",
    "n_item = len(data['row_name'])\n",
    "diag_mask = np.eye(n_item, dtype=bool)\n",
    "# reject, p_arr[tril_mask], alpha_sidak, alpha_bonf = \\\n",
    "#     multipletests(p_arr[tril_mask], 0.05, 'fdr_bh')\n",
    "p_mask = data['p'] < 0.05\n",
    "\n",
    "r_arr = np.ma.array(data['r'], mask=diag_mask)\n",
    "_, ax = plt.subplots(figsize=figsize)\n",
    "ticks = np.arange(n_item)\n",
    "# img = ax.imshow(r_arr, 'coolwarm', norm=MidpointNormalize(midpoint=0.))\n",
    "img = ax.imshow(r_arr, 'autumn')\n",
    "# plt.colorbar(img)\n",
    "ax.set_xticks(ticks)\n",
    "ax.set_xticklabels(data['col_name'])\n",
    "plt.setp(ax.get_xticklabels(), rotation=45, ha=\"right\",\n",
    "         rotation_mode=\"anchor\")\n",
    "ax.set_yticks(ticks)\n",
    "ax.set_yticklabels(data['row_name'])\n",
    "ax.spines['top'].set_visible(False)\n",
    "ax.spines['right'].set_visible(False)\n",
    "ax.spines['bottom'].set_visible(False)\n",
    "ax.spines['left'].set_visible(False)\n",
    "# plt.colorbar(img, shrink=0.5)\n",
    "\n",
    "grid_ticks = np.r_[ticks-.5, ticks[-1]+.5]\n",
    "ax.set_xticks(grid_ticks, minor=True)\n",
    "ax.set_yticks(grid_ticks, minor=True)\n",
    "ax.grid(which=\"minor\", color=\"w\", linestyle='-', linewidth=1.5)\n",
    "ax.tick_params(which=\"minor\", bottom=False, left=False)\n",
    "\n",
    "for i in range(n_item):\n",
    "    for j in range(n_item):\n",
    "        if isinstance(r_arr[i, j], np.ma.core.MaskedConstant):\n",
    "            continue\n",
    "\n",
    "        if p_mask[i, j]:\n",
    "            weight = 'bold'\n",
    "        else:\n",
    "            weight = None\n",
    "\n",
    "        ax.text(j, i, '{:.2f}'.format(r_arr[i, j]),\n",
    "                ha=\"center\", va=\"center\", color=\"k\", weight=weight)\n",
    "\n",
    "plt.tight_layout()\n",
    "if out_file is None:\n",
    "    plt.show()\n",
    "else:\n",
    "    plt.savefig(out_file)"
   ]
  }
 ],
 "metadata": {
  "interpreter": {
   "hash": "ded51e6ae5fb79fea0b0420ae45d65595baa7e9f6ec8445524f1c7cb23aaaa4c"
  },
  "kernelspec": {
   "display_name": "Python 3.8.5 64-bit ('base': conda)",
   "name": "python3"
  },
  "language_info": {
   "codemirror_mode": {
    "name": "ipython",
    "version": 3
   },
   "file_extension": ".py",
   "mimetype": "text/x-python",
   "name": "python",
   "nbconvert_exporter": "python",
   "pygments_lexer": "ipython3",
   "version": "3.8.5"
  },
  "orig_nbformat": 4
 },
 "nbformat": 4,
 "nbformat_minor": 2
}
