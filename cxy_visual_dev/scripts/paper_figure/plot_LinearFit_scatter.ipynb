{
 "cells": [
  {
   "cell_type": "code",
   "execution_count": 1,
   "metadata": {},
   "outputs": [],
   "source": [
    "import os\n",
    "import sys\n",
    "sys.path.append('/nfs/z1/userhome/ChenXiaYu/workingdir/code/MagicBox')\n",
    "import decimal\n",
    "import numpy as np\n",
    "\n",
    "from os.path import join as pjoin\n",
    "from decimal import Decimal\n",
    "from scipy.io import loadmat\n",
    "from scipy.stats import pearsonr, permutation_test\n",
    "from matplotlib import pyplot as plt\n",
    "from magicbox.algorithm.plot import plot_polyfit\n",
    "from cxy_visual_dev.lib.predefine import proj_dir\n",
    "\n",
    "anal_dir = pjoin(proj_dir, 'analysis')\n",
    "data_dir = pjoin(anal_dir, 'paper_fig')\n",
    "work_dir = pjoin(anal_dir, 'plot/paper_fig')\n",
    "if not os.path.isdir(work_dir):\n",
    "    os.makedirs(work_dir)"
   ]
  },
  {
   "attachments": {},
   "cell_type": "markdown",
   "metadata": {},
   "source": [
    "# Gradient Smoothness"
   ]
  },
  {
   "cell_type": "code",
   "execution_count": 3,
   "metadata": {},
   "outputs": [
    {
     "name": "stdout",
     "output_type": "stream",
     "text": [
      "---PC1_smoothness_R---\n",
      "polynomial:\n",
      "  \n",
      "0.4254 x + 11.36\n",
      "\n",
      "score: PearsonRResult(statistic=0.430675809393735, pvalue=0.0)\n",
      "pearsonr(x, y, alternative='greater'):\n",
      " PearsonRResult(statistic=0.43067580939373507, pvalue=0.0)\n"
     ]
    },
    {
     "data": {
      "image/png": "[encoded data removed]",
      "text/plain": [
       "<Figure size 230.4x172.8 with 1 Axes>"
      ]
     },
     "metadata": {
      "needs_background": "light"
     },
     "output_type": "display_data"
    }
   ],
   "source": [
    "Hemi = 'R'  # L or R\n",
    "gradient_name = 'PC1'  # PC1 or PC2\n",
    "vis_name = f'MMP-vis3-{Hemi}'\n",
    "figsize = (3.2, 2.4)\n",
    "gradient_dist_file = pjoin(data_dir, f'gradient_distance_{Hemi}.mat')\n",
    "geodesic_dist_file = pjoin(data_dir, f'geodesic_distance_{Hemi}.mat')\n",
    "out_name = f'{gradient_name}_smoothness_{Hemi}'\n",
    "out_file = pjoin(work_dir, f'{out_name}.jpg')\n",
    "out_file = 'show'\n",
    "\n",
    "def statistic(x, y):\n",
    "    return pearsonr(x, y)[0]\n",
    "\n",
    "gradient_dist = loadmat(gradient_dist_file)\n",
    "geodesic_dist = loadmat(geodesic_dist_file)\n",
    "\n",
    "x = geodesic_dist['data'][0]\n",
    "y = gradient_dist[gradient_name][0]\n",
    "fig, ax = plt.subplots(1, 1, figsize=figsize)\n",
    "print(f'---{out_name}---')\n",
    "plot_polyfit(x, y, 1, color='r', s=1, ax=ax)\n",
    "# pmt_test = permutation_test(\n",
    "#         (x, y), statistic, permutation_type='pairings',\n",
    "#         vectorized=False, n_resamples=10, alternative='greater',\n",
    "#         random_state=7, batch=10)\n",
    "# print('pmt_test.statistic:\\n', pmt_test.statistic)\n",
    "# print('pmt_test.pvalue:\\n', pmt_test.pvalue)\n",
    "print(\"pearsonr(x, y, alternative='greater'):\\n\",\n",
    "      pearsonr(x, y, alternative='greater'))\n",
    "xlim = ax.get_xlim()\n",
    "xlim = (np.floor(xlim[0]), np.ceil(xlim[1]))\n",
    "ax.set_xticks(xlim)\n",
    "ax.set_xticklabels(xlim)\n",
    "ylim = ax.get_ylim()\n",
    "ylim = (np.floor(ylim[0]), np.ceil(ylim[1]))\n",
    "ax.set_yticks(ylim)\n",
    "ax.set_yticklabels(ylim)\n",
    "ax.set_xlabel('geodesic distance')\n",
    "ax.set_ylabel('gradient distance')\n",
    "ax.set_title(out_name)\n",
    "ax.spines['top'].set_visible(False)\n",
    "ax.spines['right'].set_visible(False)\n",
    "\n",
    "fig.tight_layout()\n",
    "if out_file == 'show':\n",
    "    fig.show()\n",
    "else:\n",
    "    fig.savefig(out_file)"
   ]
  },
  {
   "attachments": {},
   "cell_type": "markdown",
   "metadata": {},
   "source": [
    "# Gradient correlates with RSFC"
   ]
  },
  {
   "cell_type": "code",
   "execution_count": 3,
   "metadata": {},
   "outputs": [
    {
     "name": "stdout",
     "output_type": "stream",
     "text": [
      "x.min(), x.max():\n",
      " -0.05199934122193598 0.90659264204795\n",
      "y.min(), y.max():\n",
      " 0.00024222393788434843 8.885579506237901\n",
      "---2D-PC-zscore-corr-RSFC_R---\n",
      "polynomial:\n",
      "  \n",
      "-8.375 x + 2.235\n",
      "\n",
      "score: PearsonRResult(statistic=0.42127394918001726, pvalue=0.0)\n",
      "pearsonr PearsonRResult(statistic=-0.4212739491800173, pvalue=0.0)\n"
     ]
    },
    {
     "data": {
      "image/png": "[encoded data removed]",
      "text/plain": [
       "<Figure size 230.4x172.8 with 1 Axes>"
      ]
     },
     "metadata": {
      "needs_background": "light"
     },
     "output_type": "display_data"
    }
   ],
   "source": [
    "Hemi = 'R'  # L or R\n",
    "gradient_name = '2D-PC-zscore'  # PC1, PC2, 2D-PC, 2D-PC-zscore\n",
    "vis_name = f'MMP-vis3-{Hemi}'\n",
    "figsize = (3.2, 2.4)\n",
    "gradient_dist_file = pjoin(data_dir, f'gradient_distance_{Hemi}.mat')\n",
    "rsfc_file = pjoin(data_dir, f'HCPY-avg_RSFC-{vis_name}.mat')\n",
    "out_name = f'{gradient_name}-corr-RSFC_{Hemi}'\n",
    "out_file = pjoin(work_dir, f'{out_name}.jpg')\n",
    "# out_file = 'show'\n",
    "\n",
    "gradient_dist = loadmat(gradient_dist_file)\n",
    "rsfc_dist = loadmat(rsfc_file)\n",
    "\n",
    "x = rsfc_dist['data'][0]\n",
    "print('x.min(), x.max():\\n', x.min(), x.max())\n",
    "y = gradient_dist[gradient_name][0]\n",
    "print('y.min(), y.max():\\n', y.min(), y.max())\n",
    "fig, ax = plt.subplots(1, 1, figsize=figsize)\n",
    "print(f'---{out_name}---')\n",
    "plot_polyfit(x, y, 1, color='r', s=1, ax=ax)\n",
    "print('pearsonr', pearsonr(x, y))\n",
    "# xlim = ax.get_xlim()\n",
    "ctx = decimal.getcontext()\n",
    "ctx.rounding = decimal.ROUND_FLOOR\n",
    "xlim_left = round(Decimal(str(x.min())), 1)\n",
    "ctx.rounding = decimal.ROUND_CEILING\n",
    "xlim_right = round(Decimal(str(x.max())), 1)\n",
    "xlim = (xlim_left, xlim_right)\n",
    "ax.set_xlim(*xlim)\n",
    "ax.set_xticks(xlim)\n",
    "ax.set_xticklabels(xlim)\n",
    "# ylim = ax.get_ylim()\n",
    "ylim = (np.floor(y.min()), np.ceil(y.max()))\n",
    "ax.set_ylim(*ylim)\n",
    "ax.set_yticks(ylim)\n",
    "ax.set_yticklabels(ylim)\n",
    "ax.set_xlabel('RSFC')\n",
    "ax.set_ylabel('gradient distance')\n",
    "ax.set_title(out_name)\n",
    "ax.spines['top'].set_visible(False)\n",
    "ax.spines['right'].set_visible(False)\n",
    "\n",
    "fig.tight_layout()\n",
    "if out_file == 'show':\n",
    "    fig.show()\n",
    "else:\n",
    "    fig.savefig(out_file)"
   ]
  }
 ],
 "metadata": {
  "kernelspec": {
   "display_name": "Python 3.8.5 ('base')",
   "language": "python",
   "name": "python3"
  },
  "language_info": {
   "codemirror_mode": {
    "name": "ipython",
    "version": 3
   },
   "file_extension": ".py",
   "mimetype": "text/x-python",
   "name": "python",
   "nbconvert_exporter": "python",
   "pygments_lexer": "ipython3",
   "version": "3.8.5"
  },
  "orig_nbformat": 4,
  "vscode": {
   "interpreter": {
    "hash": "ded51e6ae5fb79fea0b0420ae45d65595baa7e9f6ec8445524f1c7cb23aaaa4c"
   }
  }
 },
 "nbformat": 4,
 "nbformat_minor": 2
}
