{
 "cells": [
  {
   "cell_type": "code",
   "execution_count": 1,
   "metadata": {},
   "outputs": [],
   "source": [
    "import os\n",
    "import numpy as np\n",
    "import pandas as pd\n",
    "from os.path import join as pjoin\n",
    "from scipy.stats.stats import sem\n",
    "from matplotlib import pyplot as plt\n",
    "from magicbox.algorithm.plot import show_bar_value\n",
    "from cxy_visual_dev.lib.predefine import dataset_name2info, proj_dir\n",
    "\n",
    "anal_dir = pjoin(proj_dir, 'analysis')\n",
    "work_dir = pjoin(anal_dir, 'plot/plot_fit')\n",
    "if not os.path.isdir(work_dir):\n",
    "    os.makedirs(work_dir)"
   ]
  },
  {
   "cell_type": "markdown",
   "metadata": {},
   "source": [
    "# plot CalcS+OcPole+MT=C1.csv"
   ]
  },
  {
   "cell_type": "code",
   "execution_count": 13,
   "metadata": {},
   "outputs": [
    {
     "name": "stdout",
     "output_type": "stream",
     "text": [
      "score: 0    0.572911\n",
      "Name: score_C1, dtype: float64\n"
     ]
    },
    {
     "data": {
      "image/png": "[encoded data removed]",
      "text/plain": [
       "<Figure size 216x288 with 1 Axes>"
      ]
     },
     "metadata": {
      "needs_background": "light"
     },
     "output_type": "display_data"
    }
   ],
   "source": [
    "fname = 'CalcS+OcPole+MT=C1'\n",
    "df = pd.read_csv(pjoin(anal_dir, f'fit/{fname}.csv'))\n",
    "print('score:', df['score_C1'])\n",
    "\n",
    "coef_names = [i for i in df.columns if i.startswith('coef_C1_')]\n",
    "feat_names = [i.split('_')[-1] for i in coef_names]\n",
    "_, ax = plt.subplots(figsize=(3, 4))\n",
    "y = df.loc[0, coef_names].to_list()\n",
    "x = np.arange(len(y))\n",
    "rects = ax.bar(x, y)\n",
    "show_bar_value(rects, '.3f', ax)\n",
    "ax.set_xticks(x)\n",
    "ax.set_xticklabels(feat_names)\n",
    "plt.setp(ax.get_xticklabels(), rotation=45, ha=\"right\",\n",
    "         rotation_mode=\"anchor\")\n",
    "ax.set_ylabel('coefficient')\n",
    "ax.set_title(fname)\n",
    "ax.spines['top'].set_visible(False)\n",
    "ax.spines['right'].set_visible(False)\n",
    "plt.tight_layout()\n",
    "plt.savefig(pjoin(work_dir, f'{fname}.jpg'))"
   ]
  }
 ],
 "metadata": {
  "interpreter": {
   "hash": "ded51e6ae5fb79fea0b0420ae45d65595baa7e9f6ec8445524f1c7cb23aaaa4c"
  },
  "kernelspec": {
   "display_name": "Python 3.8.5 64-bit ('base': conda)",
   "name": "python3"
  },
  "language_info": {
   "codemirror_mode": {
    "name": "ipython",
    "version": 3
   },
   "file_extension": ".py",
   "mimetype": "text/x-python",
   "name": "python",
   "nbconvert_exporter": "python",
   "pygments_lexer": "ipython3",
   "version": "3.8.5"
  },
  "orig_nbformat": 4
 },
 "nbformat": 4,
 "nbformat_minor": 2
}
